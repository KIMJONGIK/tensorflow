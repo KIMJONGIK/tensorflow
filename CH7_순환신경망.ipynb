{
 "cells": [
  {
   "cell_type": "markdown",
   "metadata": {},
   "source": [
    "## SimpleRNN"
   ]
  },
  {
   "cell_type": "code",
   "execution_count": 2,
   "metadata": {},
   "outputs": [
    {
     "name": "stdout",
     "output_type": "stream",
     "text": [
      "[[0. ]\n",
      " [0.1]\n",
      " [0.2]\n",
      " [0.3]] 0.4\n",
      "[[0.1]\n",
      " [0.2]\n",
      " [0.3]\n",
      " [0.4]] 0.5\n",
      "[[0.2]\n",
      " [0.3]\n",
      " [0.4]\n",
      " [0.5]] 0.6\n",
      "[[0.3]\n",
      " [0.4]\n",
      " [0.5]\n",
      " [0.6]] 0.7\n",
      "[[0.4]\n",
      " [0.5]\n",
      " [0.6]\n",
      " [0.7]] 0.8\n",
      "[[0.5]\n",
      " [0.6]\n",
      " [0.7]\n",
      " [0.8]] 0.9\n"
     ]
    }
   ],
   "source": [
    "# rnn1 = tf.keras.layers.SimpleRNN(units=1, activation='tanh', return_sequences=True)\n",
    "import numpy as np\n",
    "import tensorflow as tf\n",
    "X = []\n",
    "Y = []\n",
    "for i in range(6):\n",
    "    lst = list(range(i, i+4))\n",
    "    X.append(list(map(lambda c: [c/10], lst)))\n",
    "    Y.append((i+4)/10)\n",
    "    \n",
    "X = np.array(X)\n",
    "Y = np.array(Y)\n",
    "for i in range(len(X)):\n",
    "    print(X[i], Y[i])"
   ]
  },
  {
   "cell_type": "code",
   "execution_count": 6,
   "metadata": {},
   "outputs": [
    {
     "name": "stdout",
     "output_type": "stream",
     "text": [
      "Model: \"sequential\"\n",
      "_________________________________________________________________\n",
      "Layer (type)                 Output Shape              Param #   \n",
      "=================================================================\n",
      "simple_rnn (SimpleRNN)       (None, 10)                120       \n",
      "_________________________________________________________________\n",
      "dense (Dense)                (None, 1)                 11        \n",
      "=================================================================\n",
      "Total params: 131\n",
      "Trainable params: 131\n",
      "Non-trainable params: 0\n",
      "_________________________________________________________________\n"
     ]
    }
   ],
   "source": [
    "model = tf.keras.Sequential([\n",
    "    tf.keras.layers.SimpleRNN(units=10, return_sequences=False, input_shape=[4,1]),\n",
    "    tf.keras.layers.Dense(1)\n",
    "])\n",
    "\n",
    "model.compile(optimizer='adam', loss='mse')\n",
    "model.summary()"
   ]
  },
  {
   "cell_type": "code",
   "execution_count": 7,
   "metadata": {},
   "outputs": [
    {
     "name": "stdout",
     "output_type": "stream",
     "text": [
      "[[0.4873732 ]\n",
      " [0.56846845]\n",
      " [0.6266489 ]\n",
      " [0.6650008 ]\n",
      " [0.68723226]\n",
      " [0.6967022 ]]\n"
     ]
    }
   ],
   "source": [
    "model.fit(X, Y, epochs=100, verbose=0)\n",
    "print(model.predict(X))"
   ]
  },
  {
   "cell_type": "code",
   "execution_count": 8,
   "metadata": {},
   "outputs": [
    {
     "name": "stdout",
     "output_type": "stream",
     "text": [
      "[[0.6961843]]\n",
      "[[0.3833957]]\n"
     ]
    }
   ],
   "source": [
    "print(model.predict(np.array([[[0.6], [0.7], [0.8], [0.9]]])))\n",
    "print(model.predict(np.array([[[-0.1], [0.0], [0.1], [0.2]]])))"
   ]
  },
  {
   "cell_type": "markdown",
   "metadata": {},
   "source": [
    "## LSTM 레이어"
   ]
  },
  {
   "cell_type": "code",
   "execution_count": 10,
   "metadata": {},
   "outputs": [
    {
     "name": "stdout",
     "output_type": "stream",
     "text": [
      "[[0.         0.02220694]\n",
      " [0.         0.70887937]\n",
      " [0.         0.02026295]\n",
      " [0.         0.16575194]\n",
      " [0.         0.70302915]\n",
      " [0.         0.04365097]\n",
      " [0.         0.90283541]\n",
      " [0.         0.8072161 ]\n",
      " [0.         0.76276578]\n",
      " [0.         0.5630326 ]\n",
      " [1.         0.29809994]\n",
      " [1.         0.47761222]\n",
      " [0.         0.53858876]\n",
      " [0.         0.0399282 ]\n",
      " [0.         0.15471823]\n",
      " [0.         0.60027148]\n",
      " [0.         0.91855915]\n",
      " [0.         0.57542686]\n",
      " [0.         0.87624125]\n",
      " [0.         0.25152849]\n",
      " [0.         0.66594155]\n",
      " [0.         0.29185254]\n",
      " [0.         0.26234151]\n",
      " [0.         0.16227388]\n",
      " [0.         0.29754902]\n",
      " [0.         0.49886401]\n",
      " [0.         0.84770001]\n",
      " [0.         0.55676572]\n",
      " [0.         0.95079995]\n",
      " [0.         0.85208879]\n",
      " [0.         0.09512025]\n",
      " [0.         0.75999444]\n",
      " [0.         0.80887101]\n",
      " [0.         0.24101229]\n",
      " [0.         0.23801185]\n",
      " [0.         0.25540564]\n",
      " [0.         0.45101693]\n",
      " [0.         0.0134139 ]\n",
      " [0.         0.06846183]\n",
      " [0.         0.47543413]\n",
      " [0.         0.33782606]\n",
      " [0.         0.32197491]\n",
      " [0.         0.22328488]\n",
      " [0.         0.71463582]\n",
      " [0.         0.9755889 ]\n",
      " [0.         0.33774432]\n",
      " [0.         0.86753092]\n",
      " [0.         0.94343529]\n",
      " [0.         0.76246339]\n",
      " [0.         0.20072024]\n",
      " [0.         0.6386105 ]\n",
      " [0.         0.51135049]\n",
      " [0.         0.85240347]\n",
      " [0.         0.13389555]\n",
      " [0.         0.71143443]\n",
      " [0.         0.4236497 ]\n",
      " [0.         0.57456054]\n",
      " [0.         0.40206125]\n",
      " [0.         0.8254361 ]\n",
      " [0.         0.31735992]\n",
      " [0.         0.54365168]\n",
      " [0.         0.84209386]\n",
      " [0.         0.1920592 ]\n",
      " [0.         0.20011084]\n",
      " [0.         0.74800503]\n",
      " [0.         0.11325542]\n",
      " [0.         0.1682411 ]\n",
      " [0.         0.76731613]\n",
      " [0.         0.55378556]\n",
      " [0.         0.94015767]\n",
      " [0.         0.56517951]\n",
      " [0.         0.79357266]\n",
      " [0.         0.02467047]\n",
      " [0.         0.07959957]\n",
      " [0.         0.43573005]\n",
      " [0.         0.9952526 ]\n",
      " [0.         0.23436779]\n",
      " [0.         0.38241291]\n",
      " [0.         0.94197911]\n",
      " [0.         0.02815933]\n",
      " [0.         0.41296657]\n",
      " [0.         0.93345854]\n",
      " [0.         0.97332578]\n",
      " [0.         0.14142781]\n",
      " [0.         0.23557935]\n",
      " [0.         0.24007683]\n",
      " [0.         0.93605213]\n",
      " [0.         0.45339469]\n",
      " [0.         0.26761506]\n",
      " [0.         0.62341845]\n",
      " [0.         0.166404  ]\n",
      " [0.         0.03884739]\n",
      " [0.         0.58841217]\n",
      " [0.         0.77110117]\n",
      " [0.         0.28509033]\n",
      " [0.         0.45632551]\n",
      " [0.         0.17177924]\n",
      " [0.         0.43442547]\n",
      " [0.         0.36227446]\n",
      " [0.         0.03864723]] 0.14237617258282326\n"
     ]
    }
   ],
   "source": [
    "X = []\n",
    "Y = []\n",
    "for i in range(3000):\n",
    "    lst = np.random.rand(1000)\n",
    "    idx = np.random.choice(100, 2, replace=False)\n",
    "    zeros = np.zeros(100)\n",
    "    zeros[idx] = 1\n",
    "    X.append(np.array(list(zip(zeros, lst))))\n",
    "    Y.append(np.prod(lst[idx]))\n",
    "print(X[0], Y[0])"
   ]
  },
  {
   "cell_type": "code",
   "execution_count": 11,
   "metadata": {},
   "outputs": [
    {
     "name": "stdout",
     "output_type": "stream",
     "text": [
      "Model: \"sequential_1\"\n",
      "_________________________________________________________________\n",
      "Layer (type)                 Output Shape              Param #   \n",
      "=================================================================\n",
      "simple_rnn_1 (SimpleRNN)     (None, 100, 30)           990       \n",
      "_________________________________________________________________\n",
      "simple_rnn_2 (SimpleRNN)     (None, 30)                1830      \n",
      "_________________________________________________________________\n",
      "dense_1 (Dense)              (None, 1)                 31        \n",
      "=================================================================\n",
      "Total params: 2,851\n",
      "Trainable params: 2,851\n",
      "Non-trainable params: 0\n",
      "_________________________________________________________________\n"
     ]
    }
   ],
   "source": [
    "model = tf.keras.Sequential([\n",
    "    tf.keras.layers.SimpleRNN(units=30, return_sequences=True, input_shape=[100,2]),\n",
    "    tf.keras.layers.SimpleRNN(units=30),\n",
    "    tf.keras.layers.Dense(1)\n",
    "])\n",
    "\n",
    "model.compile(optimizer='adam', loss='mse')\n",
    "model.summary()"
   ]
  },
  {
   "cell_type": "code",
   "execution_count": 12,
   "metadata": {},
   "outputs": [
    {
     "name": "stdout",
     "output_type": "stream",
     "text": [
      "Train on 2048 samples, validate on 512 samples\n",
      "Epoch 1/100\n",
      "2048/2048 [==============================] - 7s 3ms/sample - loss: 0.0784 - val_loss: 0.0539\n",
      "Epoch 2/100\n",
      "2048/2048 [==============================] - 6s 3ms/sample - loss: 0.0490 - val_loss: 0.0574\n",
      "Epoch 3/100\n",
      "2048/2048 [==============================] - 5s 3ms/sample - loss: 0.0487 - val_loss: 0.0510\n",
      "Epoch 4/100\n",
      "2048/2048 [==============================] - 5s 3ms/sample - loss: 0.0495 - val_loss: 0.0507\n",
      "Epoch 5/100\n",
      "2048/2048 [==============================] - 6s 3ms/sample - loss: 0.0480 - val_loss: 0.0535\n",
      "Epoch 6/100\n",
      "2048/2048 [==============================] - 5s 3ms/sample - loss: 0.0487 - val_loss: 0.0527\n",
      "Epoch 7/100\n",
      "2048/2048 [==============================] - 5s 3ms/sample - loss: 0.0482 - val_loss: 0.0514\n",
      "Epoch 8/100\n",
      "2048/2048 [==============================] - 5s 3ms/sample - loss: 0.0496 - val_loss: 0.0507\n",
      "Epoch 9/100\n",
      "2048/2048 [==============================] - 6s 3ms/sample - loss: 0.0482 - val_loss: 0.0508\n",
      "Epoch 10/100\n",
      "2048/2048 [==============================] - 5s 3ms/sample - loss: 0.0476 - val_loss: 0.0507\n",
      "Epoch 11/100\n",
      "2048/2048 [==============================] - 5s 3ms/sample - loss: 0.0475 - val_loss: 0.0510\n",
      "Epoch 12/100\n",
      "2048/2048 [==============================] - 5s 3ms/sample - loss: 0.0487 - val_loss: 0.0518\n",
      "Epoch 13/100\n",
      "2048/2048 [==============================] - 6s 3ms/sample - loss: 0.0476 - val_loss: 0.0545\n",
      "Epoch 14/100\n",
      "2048/2048 [==============================] - 5s 3ms/sample - loss: 0.0495 - val_loss: 0.0509\n",
      "Epoch 15/100\n",
      "2048/2048 [==============================] - 5s 3ms/sample - loss: 0.0486 - val_loss: 0.0526\n",
      "Epoch 16/100\n",
      "2048/2048 [==============================] - 5s 3ms/sample - loss: 0.0476 - val_loss: 0.0533\n",
      "Epoch 17/100\n",
      "2048/2048 [==============================] - 5s 3ms/sample - loss: 0.0481 - val_loss: 0.0536\n",
      "Epoch 18/100\n",
      "2048/2048 [==============================] - 5s 3ms/sample - loss: 0.0477 - val_loss: 0.0529\n",
      "Epoch 19/100\n",
      "2048/2048 [==============================] - 5s 3ms/sample - loss: 0.0476 - val_loss: 0.0506\n",
      "Epoch 20/100\n",
      "2048/2048 [==============================] - 5s 3ms/sample - loss: 0.0476 - val_loss: 0.0507\n",
      "Epoch 21/100\n",
      "2048/2048 [==============================] - 5s 3ms/sample - loss: 0.0478 - val_loss: 0.0508\n",
      "Epoch 22/100\n",
      "2048/2048 [==============================] - 5s 3ms/sample - loss: 0.0470 - val_loss: 0.0508\n",
      "Epoch 23/100\n",
      "2048/2048 [==============================] - 5s 3ms/sample - loss: 0.0486 - val_loss: 0.0508\n",
      "Epoch 24/100\n",
      "2048/2048 [==============================] - 6s 3ms/sample - loss: 0.0470 - val_loss: 0.0508\n",
      "Epoch 25/100\n",
      "2048/2048 [==============================] - 5s 3ms/sample - loss: 0.0474 - val_loss: 0.0508\n",
      "Epoch 26/100\n",
      "2048/2048 [==============================] - 6s 3ms/sample - loss: 0.0474 - val_loss: 0.0517\n",
      "Epoch 27/100\n",
      "2048/2048 [==============================] - 6s 3ms/sample - loss: 0.0478 - val_loss: 0.0509\n",
      "Epoch 28/100\n",
      "2048/2048 [==============================] - 6s 3ms/sample - loss: 0.0476 - val_loss: 0.0506\n",
      "Epoch 29/100\n",
      "2048/2048 [==============================] - 5s 3ms/sample - loss: 0.0476 - val_loss: 0.0535\n",
      "Epoch 30/100\n",
      "2048/2048 [==============================] - 5s 3ms/sample - loss: 0.0469 - val_loss: 0.0509\n",
      "Epoch 31/100\n",
      "2048/2048 [==============================] - 5s 3ms/sample - loss: 0.0474 - val_loss: 0.0516\n",
      "Epoch 32/100\n",
      "2048/2048 [==============================] - 5s 3ms/sample - loss: 0.0467 - val_loss: 0.0596\n",
      "Epoch 33/100\n",
      "2048/2048 [==============================] - 5s 3ms/sample - loss: 0.0479 - val_loss: 0.0502\n",
      "Epoch 34/100\n",
      "2048/2048 [==============================] - 5s 3ms/sample - loss: 0.0469 - val_loss: 0.0572\n",
      "Epoch 35/100\n",
      "2048/2048 [==============================] - 6s 3ms/sample - loss: 0.0477 - val_loss: 0.0530\n",
      "Epoch 36/100\n",
      "2048/2048 [==============================] - 5s 3ms/sample - loss: 0.0471 - val_loss: 0.0521\n",
      "Epoch 37/100\n",
      "2048/2048 [==============================] - 5s 3ms/sample - loss: 0.0467 - val_loss: 0.0511\n",
      "Epoch 38/100\n",
      "2048/2048 [==============================] - 5s 3ms/sample - loss: 0.0464 - val_loss: 0.0513\n",
      "Epoch 39/100\n",
      "2048/2048 [==============================] - 5s 3ms/sample - loss: 0.0466 - val_loss: 0.0516\n",
      "Epoch 40/100\n",
      "2048/2048 [==============================] - 5s 3ms/sample - loss: 0.0466 - val_loss: 0.0511\n",
      "Epoch 41/100\n",
      "2048/2048 [==============================] - 5s 3ms/sample - loss: 0.0466 - val_loss: 0.0518\n",
      "Epoch 42/100\n",
      "2048/2048 [==============================] - 5s 3ms/sample - loss: 0.0462 - val_loss: 0.0515\n",
      "Epoch 43/100\n",
      "2048/2048 [==============================] - 5s 3ms/sample - loss: 0.0462 - val_loss: 0.0500\n",
      "Epoch 44/100\n",
      "2048/2048 [==============================] - 5s 3ms/sample - loss: 0.0464 - val_loss: 0.0507\n",
      "Epoch 45/100\n",
      "2048/2048 [==============================] - 5s 3ms/sample - loss: 0.0457 - val_loss: 0.0517\n",
      "Epoch 46/100\n",
      "2048/2048 [==============================] - 5s 3ms/sample - loss: 0.0462 - val_loss: 0.0544\n",
      "Epoch 47/100\n",
      "2048/2048 [==============================] - 5s 3ms/sample - loss: 0.0459 - val_loss: 0.0519\n",
      "Epoch 48/100\n",
      "2048/2048 [==============================] - 5s 3ms/sample - loss: 0.0458 - val_loss: 0.0512\n",
      "Epoch 49/100\n",
      "2048/2048 [==============================] - 5s 3ms/sample - loss: 0.0464 - val_loss: 0.0503\n",
      "Epoch 50/100\n",
      "2048/2048 [==============================] - 5s 3ms/sample - loss: 0.0457 - val_loss: 0.0504\n",
      "Epoch 51/100\n",
      "2048/2048 [==============================] - 5s 3ms/sample - loss: 0.0456 - val_loss: 0.0509\n",
      "Epoch 52/100\n",
      "2048/2048 [==============================] - 5s 3ms/sample - loss: 0.0455 - val_loss: 0.0527\n",
      "Epoch 53/100\n",
      "2048/2048 [==============================] - 5s 3ms/sample - loss: 0.0453 - val_loss: 0.0535\n",
      "Epoch 54/100\n",
      "2048/2048 [==============================] - 5s 3ms/sample - loss: 0.0454 - val_loss: 0.0490\n",
      "Epoch 55/100\n",
      "2048/2048 [==============================] - 5s 3ms/sample - loss: 0.0451 - val_loss: 0.0527\n",
      "Epoch 56/100\n",
      "2048/2048 [==============================] - 5s 3ms/sample - loss: 0.0455 - val_loss: 0.0555\n",
      "Epoch 57/100\n",
      "2048/2048 [==============================] - 5s 3ms/sample - loss: 0.0445 - val_loss: 0.0507\n",
      "Epoch 58/100\n",
      "2048/2048 [==============================] - 6s 3ms/sample - loss: 0.0444 - val_loss: 0.0500\n",
      "Epoch 59/100\n",
      "2048/2048 [==============================] - 5s 3ms/sample - loss: 0.0441 - val_loss: 0.0496\n",
      "Epoch 60/100\n",
      "2048/2048 [==============================] - 6s 3ms/sample - loss: 0.0442 - val_loss: 0.0507\n",
      "Epoch 61/100\n",
      "2048/2048 [==============================] - 5s 3ms/sample - loss: 0.0447 - val_loss: 0.0508\n",
      "Epoch 62/100\n",
      "2048/2048 [==============================] - 5s 3ms/sample - loss: 0.0438 - val_loss: 0.0537\n",
      "Epoch 63/100\n",
      "2048/2048 [==============================] - 5s 3ms/sample - loss: 0.0439 - val_loss: 0.0506\n",
      "Epoch 64/100\n",
      "2048/2048 [==============================] - 5s 3ms/sample - loss: 0.0435 - val_loss: 0.0507\n",
      "Epoch 65/100\n",
      "2048/2048 [==============================] - 5s 3ms/sample - loss: 0.0431 - val_loss: 0.0514\n",
      "Epoch 66/100\n",
      "2048/2048 [==============================] - 6s 3ms/sample - loss: 0.0429 - val_loss: 0.0509\n",
      "Epoch 67/100\n",
      "2048/2048 [==============================] - 5s 3ms/sample - loss: 0.0428 - val_loss: 0.0528\n",
      "Epoch 68/100\n",
      "2048/2048 [==============================] - 6s 3ms/sample - loss: 0.0437 - val_loss: 0.0530\n",
      "Epoch 69/100\n",
      "2048/2048 [==============================] - 5s 3ms/sample - loss: 0.0431 - val_loss: 0.0525\n",
      "Epoch 70/100\n",
      "2048/2048 [==============================] - 5s 3ms/sample - loss: 0.0430 - val_loss: 0.0531\n",
      "Epoch 71/100\n",
      "2048/2048 [==============================] - 5s 3ms/sample - loss: 0.0417 - val_loss: 0.0544\n",
      "Epoch 72/100\n",
      "2048/2048 [==============================] - 5s 3ms/sample - loss: 0.0416 - val_loss: 0.0561\n",
      "Epoch 73/100\n",
      "2048/2048 [==============================] - 5s 3ms/sample - loss: 0.0419 - val_loss: 0.0533\n",
      "Epoch 74/100\n",
      "2048/2048 [==============================] - 5s 3ms/sample - loss: 0.0420 - val_loss: 0.0538\n",
      "Epoch 75/100\n",
      "2048/2048 [==============================] - 5s 3ms/sample - loss: 0.0425 - val_loss: 0.0541\n",
      "Epoch 76/100\n",
      "2048/2048 [==============================] - 5s 3ms/sample - loss: 0.0408 - val_loss: 0.0544\n",
      "Epoch 77/100\n",
      "2048/2048 [==============================] - 5s 3ms/sample - loss: 0.0407 - val_loss: 0.0558\n",
      "Epoch 78/100\n",
      "2048/2048 [==============================] - 6s 3ms/sample - loss: 0.0401 - val_loss: 0.0559\n",
      "Epoch 79/100\n",
      "2048/2048 [==============================] - 5s 3ms/sample - loss: 0.0401 - val_loss: 0.0569\n",
      "Epoch 80/100\n",
      "2048/2048 [==============================] - 5s 3ms/sample - loss: 0.0404 - val_loss: 0.0567\n",
      "Epoch 81/100\n",
      "2048/2048 [==============================] - 5s 3ms/sample - loss: 0.0401 - val_loss: 0.0566\n",
      "Epoch 82/100\n",
      "2048/2048 [==============================] - 5s 3ms/sample - loss: 0.0390 - val_loss: 0.0571\n",
      "Epoch 83/100\n",
      "2048/2048 [==============================] - 6s 3ms/sample - loss: 0.0388 - val_loss: 0.0564\n",
      "Epoch 84/100\n",
      "2048/2048 [==============================] - 5s 3ms/sample - loss: 0.0380 - val_loss: 0.0557\n",
      "Epoch 85/100\n",
      "2048/2048 [==============================] - 5s 3ms/sample - loss: 0.0390 - val_loss: 0.0600\n",
      "Epoch 86/100\n",
      "2048/2048 [==============================] - 6s 3ms/sample - loss: 0.0387 - val_loss: 0.0567\n",
      "Epoch 87/100\n",
      "2048/2048 [==============================] - 5s 3ms/sample - loss: 0.0386 - val_loss: 0.0566\n",
      "Epoch 88/100\n",
      "2048/2048 [==============================] - 5s 3ms/sample - loss: 0.0373 - val_loss: 0.0565\n",
      "Epoch 89/100\n",
      "2048/2048 [==============================] - 6s 3ms/sample - loss: 0.0365 - val_loss: 0.0576\n",
      "Epoch 90/100\n",
      "2048/2048 [==============================] - 5s 3ms/sample - loss: 0.0375 - val_loss: 0.0573\n",
      "Epoch 91/100\n",
      "2048/2048 [==============================] - 5s 3ms/sample - loss: 0.0367 - val_loss: 0.0579\n",
      "Epoch 92/100\n",
      "2048/2048 [==============================] - 5s 3ms/sample - loss: 0.0365 - val_loss: 0.0590\n",
      "Epoch 93/100\n",
      "2048/2048 [==============================] - 5s 3ms/sample - loss: 0.0357 - val_loss: 0.0593\n",
      "Epoch 94/100\n",
      "2048/2048 [==============================] - 5s 3ms/sample - loss: 0.0356 - val_loss: 0.0581\n",
      "Epoch 95/100\n",
      "2048/2048 [==============================] - 6s 3ms/sample - loss: 0.0352 - val_loss: 0.0614\n",
      "Epoch 96/100\n",
      "2048/2048 [==============================] - 5s 3ms/sample - loss: 0.0349 - val_loss: 0.0618\n",
      "Epoch 97/100\n",
      "2048/2048 [==============================] - 5s 3ms/sample - loss: 0.0344 - val_loss: 0.0582\n",
      "Epoch 98/100\n",
      "2048/2048 [==============================] - 5s 3ms/sample - loss: 0.0346 - val_loss: 0.0632\n",
      "Epoch 99/100\n",
      "2048/2048 [==============================] - 5s 3ms/sample - loss: 0.0340 - val_loss: 0.0599\n",
      "Epoch 100/100\n",
      "2048/2048 [==============================] - 5s 3ms/sample - loss: 0.0331 - val_loss: 0.0617\n"
     ]
    }
   ],
   "source": [
    "X = np.array(X)\n",
    "Y = np.array(Y)\n",
    "\n",
    "history = model.fit(X[:2560], Y[:2560], epochs=100, validation_split=0.2)"
   ]
  },
  {
   "cell_type": "code",
   "execution_count": 13,
   "metadata": {},
   "outputs": [
    {
     "data": {
      "image/png": "[encoded data removed]",
      "text/plain": [
       "<Figure size 432x288 with 1 Axes>"
      ]
     },
     "metadata": {
      "needs_background": "light"
     },
     "output_type": "display_data"
    }
   ],
   "source": [
    "import matplotlib.pyplot as plt\n",
    "plt.plot(history.history['loss'], 'b-', label='loss')\n",
    "plt.plot(history.history['val_loss'], 'r--', label='val_loss')\n",
    "plt.xlabel('Epoch')\n",
    "plt.legend()\n",
    "plt.show()"
   ]
  },
  {
   "cell_type": "code",
   "execution_count": 17,
   "metadata": {},
   "outputs": [
    {
     "name": "stdout",
     "output_type": "stream",
     "text": [
      "440/440 [==============================] - 0s 625us/sample - loss: 0.0621\n",
      "0.5651872126211629 \t 0.36917174 \tdiff: 0.19601547399659014\n",
      "0.7317425033244865 \t 0.12718348 \tdiff: 0.6045590212735908\n",
      "0.651250426661763 \t 0.18446359 \tdiff: 0.46678683627823336\n",
      "0.017518485144444457 \t 0.15152462 \tdiff: 0.13400613312356854\n",
      "0.16956357541255973 \t 0.035834003 \tdiff: 0.13372957217268966\n",
      "correctness: 13.18181818181818 %\n"
     ]
    }
   ],
   "source": [
    "model.evaluate(X[2560:],Y[ 2560:])\n",
    "prediction = model.predict(X[2560:2567+5])\n",
    "\n",
    "for i in range(5):\n",
    "    print(Y[2560+i], '\\t', prediction[i][0], '\\tdiff:', abs(prediction[i][0] - Y[2560+i]))\n",
    "\n",
    "prediction = model.predict(X[2560:])\n",
    "fail = 0\n",
    "for i in range(len(prediction)):\n",
    "    if abs(prediction[i][0] - Y[2560+i]) > 0.04:\n",
    "        fail += 1\n",
    "print('correctness:', (440 - fail ) / 440 * 100, '%')"
   ]
  },
  {
   "cell_type": "code",
   "execution_count": 18,
   "metadata": {},
   "outputs": [
    {
     "name": "stdout",
     "output_type": "stream",
     "text": [
      "Model: \"sequential_2\"\n",
      "_________________________________________________________________\n",
      "Layer (type)                 Output Shape              Param #   \n",
      "=================================================================\n",
      "lstm (LSTM)                  (None, 100, 30)           3960      \n",
      "_________________________________________________________________\n",
      "lstm_1 (LSTM)                (None, 30)                7320      \n",
      "_________________________________________________________________\n",
      "dense_2 (Dense)              (None, 1)                 31        \n",
      "=================================================================\n",
      "Total params: 11,311\n",
      "Trainable params: 11,311\n",
      "Non-trainable params: 0\n",
      "_________________________________________________________________\n"
     ]
    }
   ],
   "source": [
    "model = tf.keras.Sequential([\n",
    "    tf.keras.layers.LSTM(units=30, return_sequences=True, input_shape=[100,2]),\n",
    "    tf.keras.layers.LSTM(units=30),\n",
    "    tf.keras.layers.Dense(1)\n",
    "])\n",
    "\n",
    "model.compile(optimizer='adam', loss='mse')\n",
    "model.summary()"
   ]
  },
  {
   "cell_type": "code",
   "execution_count": 19,
   "metadata": {},
   "outputs": [
    {
     "name": "stdout",
     "output_type": "stream",
     "text": [
      "Train on 2048 samples, validate on 512 samples\n",
      "Epoch 1/100\n",
      "2048/2048 [==============================] - 6s 3ms/sample - loss: 0.0534 - val_loss: 0.0518\n",
      "Epoch 2/100\n",
      "2048/2048 [==============================] - 1s 315us/sample - loss: 0.0475 - val_loss: 0.0517\n",
      "Epoch 3/100\n",
      "2048/2048 [==============================] - 1s 324us/sample - loss: 0.0474 - val_loss: 0.0508\n",
      "Epoch 4/100\n",
      "2048/2048 [==============================] - 1s 310us/sample - loss: 0.0473 - val_loss: 0.0509\n",
      "Epoch 5/100\n",
      "2048/2048 [==============================] - 1s 317us/sample - loss: 0.0475 - val_loss: 0.0508\n",
      "Epoch 6/100\n",
      "2048/2048 [==============================] - 1s 320us/sample - loss: 0.0473 - val_loss: 0.0508\n",
      "Epoch 7/100\n",
      "2048/2048 [==============================] - 1s 314us/sample - loss: 0.0473 - val_loss: 0.0506\n",
      "Epoch 8/100\n",
      "2048/2048 [==============================] - 1s 318us/sample - loss: 0.0473 - val_loss: 0.0505\n",
      "Epoch 9/100\n",
      "2048/2048 [==============================] - 1s 317us/sample - loss: 0.0477 - val_loss: 0.0506\n",
      "Epoch 10/100\n",
      "2048/2048 [==============================] - 1s 309us/sample - loss: 0.0471 - val_loss: 0.0506\n",
      "Epoch 11/100\n",
      "2048/2048 [==============================] - 1s 311us/sample - loss: 0.0476 - val_loss: 0.0508\n",
      "Epoch 12/100\n",
      "2048/2048 [==============================] - 1s 337us/sample - loss: 0.0475 - val_loss: 0.0512\n",
      "Epoch 13/100\n",
      "2048/2048 [==============================] - 1s 319us/sample - loss: 0.0472 - val_loss: 0.0505\n",
      "Epoch 14/100\n",
      "2048/2048 [==============================] - 1s 334us/sample - loss: 0.0470 - val_loss: 0.0513\n",
      "Epoch 15/100\n",
      "2048/2048 [==============================] - 1s 325us/sample - loss: 0.0472 - val_loss: 0.0512\n",
      "Epoch 16/100\n",
      "2048/2048 [==============================] - 1s 323us/sample - loss: 0.0472 - val_loss: 0.0508\n",
      "Epoch 17/100\n",
      "2048/2048 [==============================] - 1s 323us/sample - loss: 0.0469 - val_loss: 0.0519\n",
      "Epoch 18/100\n",
      "2048/2048 [==============================] - 1s 321us/sample - loss: 0.0474 - val_loss: 0.0519\n",
      "Epoch 19/100\n",
      "2048/2048 [==============================] - 1s 336us/sample - loss: 0.0471 - val_loss: 0.0503\n",
      "Epoch 20/100\n",
      "2048/2048 [==============================] - 1s 316us/sample - loss: 0.0468 - val_loss: 0.0511\n",
      "Epoch 21/100\n",
      "2048/2048 [==============================] - 1s 331us/sample - loss: 0.0468 - val_loss: 0.0501\n",
      "Epoch 22/100\n",
      "2048/2048 [==============================] - 1s 326us/sample - loss: 0.0469 - val_loss: 0.0498\n",
      "Epoch 23/100\n",
      "2048/2048 [==============================] - 1s 338us/sample - loss: 0.0462 - val_loss: 0.0497\n",
      "Epoch 24/100\n",
      "2048/2048 [==============================] - 1s 331us/sample - loss: 0.0461 - val_loss: 0.0501\n",
      "Epoch 25/100\n",
      "2048/2048 [==============================] - 1s 313us/sample - loss: 0.0464 - val_loss: 0.0525\n",
      "Epoch 26/100\n",
      "2048/2048 [==============================] - 1s 326us/sample - loss: 0.0486 - val_loss: 0.0502\n",
      "Epoch 27/100\n",
      "2048/2048 [==============================] - 1s 317us/sample - loss: 0.0462 - val_loss: 0.0483\n",
      "Epoch 28/100\n",
      "2048/2048 [==============================] - 1s 321us/sample - loss: 0.0445 - val_loss: 0.0536\n",
      "Epoch 29/100\n",
      "2048/2048 [==============================] - 1s 321us/sample - loss: 0.0437 - val_loss: 0.0467\n",
      "Epoch 30/100\n",
      "2048/2048 [==============================] - 1s 317us/sample - loss: 0.0438 - val_loss: 0.0433\n",
      "Epoch 31/100\n",
      "2048/2048 [==============================] - 1s 327us/sample - loss: 0.0364 - val_loss: 0.0241\n",
      "Epoch 32/100\n",
      "2048/2048 [==============================] - 1s 316us/sample - loss: 0.0206 - val_loss: 0.0127\n",
      "Epoch 33/100\n",
      "2048/2048 [==============================] - 1s 317us/sample - loss: 0.0134 - val_loss: 0.0071\n",
      "Epoch 34/100\n",
      "2048/2048 [==============================] - 1s 310us/sample - loss: 0.0081 - val_loss: 0.0090\n",
      "Epoch 35/100\n",
      "2048/2048 [==============================] - 1s 326us/sample - loss: 0.0070 - val_loss: 0.0132\n",
      "Epoch 36/100\n",
      "2048/2048 [==============================] - 1s 308us/sample - loss: 0.0064 - val_loss: 0.0065\n",
      "Epoch 37/100\n",
      "2048/2048 [==============================] - 1s 317us/sample - loss: 0.0061 - val_loss: 0.0044\n",
      "Epoch 38/100\n",
      "2048/2048 [==============================] - 1s 326us/sample - loss: 0.0055 - val_loss: 0.0036\n",
      "Epoch 39/100\n",
      "2048/2048 [==============================] - 1s 317us/sample - loss: 0.0038 - val_loss: 0.0034\n",
      "Epoch 40/100\n",
      "2048/2048 [==============================] - 1s 325us/sample - loss: 0.0042 - val_loss: 0.0030\n",
      "Epoch 41/100\n",
      "2048/2048 [==============================] - 1s 318us/sample - loss: 0.0033 - val_loss: 0.0031\n",
      "Epoch 42/100\n",
      "2048/2048 [==============================] - 1s 309us/sample - loss: 0.0046 - val_loss: 0.0034\n",
      "Epoch 43/100\n",
      "2048/2048 [==============================] - 1s 318us/sample - loss: 0.0031 - val_loss: 0.0029\n",
      "Epoch 44/100\n",
      "2048/2048 [==============================] - 1s 315us/sample - loss: 0.0040 - val_loss: 0.0040\n",
      "Epoch 45/100\n",
      "2048/2048 [==============================] - 1s 319us/sample - loss: 0.0030 - val_loss: 0.0055\n",
      "Epoch 46/100\n",
      "2048/2048 [==============================] - 1s 317us/sample - loss: 0.0033 - val_loss: 0.0026\n",
      "Epoch 47/100\n",
      "2048/2048 [==============================] - 1s 318us/sample - loss: 0.0026 - val_loss: 0.0023\n",
      "Epoch 48/100\n",
      "2048/2048 [==============================] - 1s 318us/sample - loss: 0.0021 - val_loss: 0.0026\n",
      "Epoch 49/100\n",
      "2048/2048 [==============================] - 1s 325us/sample - loss: 0.0026 - val_loss: 0.0027\n",
      "Epoch 50/100\n",
      "2048/2048 [==============================] - 1s 310us/sample - loss: 0.0022 - val_loss: 0.0020\n",
      "Epoch 51/100\n",
      "2048/2048 [==============================] - 1s 318us/sample - loss: 0.0019 - val_loss: 0.0022\n",
      "Epoch 52/100\n",
      "2048/2048 [==============================] - 1s 325us/sample - loss: 0.0019 - val_loss: 0.0021\n",
      "Epoch 53/100\n",
      "2048/2048 [==============================] - 1s 318us/sample - loss: 0.0024 - val_loss: 0.0021\n",
      "Epoch 54/100\n",
      "2048/2048 [==============================] - 1s 325us/sample - loss: 0.0019 - val_loss: 0.0030\n",
      "Epoch 55/100\n",
      "2048/2048 [==============================] - 1s 318us/sample - loss: 0.0018 - val_loss: 0.0019\n",
      "Epoch 56/100\n",
      "2048/2048 [==============================] - 1s 317us/sample - loss: 0.0017 - val_loss: 0.0016\n",
      "Epoch 57/100\n",
      "2048/2048 [==============================] - 1s 318us/sample - loss: 0.0017 - val_loss: 0.0023\n",
      "Epoch 58/100\n",
      "2048/2048 [==============================] - 1s 317us/sample - loss: 0.0015 - val_loss: 0.0017\n",
      "Epoch 59/100\n",
      "2048/2048 [==============================] - 1s 325us/sample - loss: 0.0017 - val_loss: 0.0015\n",
      "Epoch 60/100\n",
      "2048/2048 [==============================] - 1s 318us/sample - loss: 0.0014 - val_loss: 0.0015\n",
      "Epoch 61/100\n",
      "2048/2048 [==============================] - 1s 321us/sample - loss: 0.0013 - val_loss: 0.0018\n",
      "Epoch 62/100\n",
      "2048/2048 [==============================] - 1s 321us/sample - loss: 0.0013 - val_loss: 0.0013\n",
      "Epoch 63/100\n",
      "2048/2048 [==============================] - 1s 317us/sample - loss: 0.0011 - val_loss: 0.0022\n",
      "Epoch 64/100\n",
      "2048/2048 [==============================] - 1s 319us/sample - loss: 0.0014 - val_loss: 0.0016\n",
      "Epoch 65/100\n",
      "2048/2048 [==============================] - 1s 326us/sample - loss: 0.0010 - val_loss: 0.0012\n",
      "Epoch 66/100\n",
      "2048/2048 [==============================] - 1s 316us/sample - loss: 0.0014 - val_loss: 0.0017\n",
      "Epoch 67/100\n",
      "2048/2048 [==============================] - 1s 317us/sample - loss: 0.0012 - val_loss: 0.0018\n",
      "Epoch 68/100\n",
      "2048/2048 [==============================] - 1s 317us/sample - loss: 0.0010 - val_loss: 0.0021\n",
      "Epoch 69/100\n",
      "2048/2048 [==============================] - 1s 319us/sample - loss: 0.0016 - val_loss: 0.0013\n",
      "Epoch 70/100\n",
      "2048/2048 [==============================] - 1s 325us/sample - loss: 8.9809e-04 - val_loss: 0.0011\n",
      "Epoch 71/100\n",
      "2048/2048 [==============================] - 1s 317us/sample - loss: 0.0011 - val_loss: 0.0016\n",
      "Epoch 72/100\n",
      "2048/2048 [==============================] - 1s 317us/sample - loss: 0.0012 - val_loss: 9.0420e-04\n",
      "Epoch 73/100\n",
      "2048/2048 [==============================] - 1s 317us/sample - loss: 8.4592e-04 - val_loss: 0.0010\n",
      "Epoch 74/100\n",
      "2048/2048 [==============================] - 1s 325us/sample - loss: 7.5082e-04 - val_loss: 9.5473e-04\n",
      "Epoch 75/100\n",
      "2048/2048 [==============================] - 1s 318us/sample - loss: 7.1704e-04 - val_loss: 0.0010\n",
      "Epoch 76/100\n",
      "2048/2048 [==============================] - 1s 318us/sample - loss: 8.8220e-04 - val_loss: 0.0012\n",
      "Epoch 77/100\n",
      "2048/2048 [==============================] - 1s 324us/sample - loss: 8.3448e-04 - val_loss: 8.7005e-04\n",
      "Epoch 78/100\n",
      "2048/2048 [==============================] - 1s 319us/sample - loss: 6.5788e-04 - val_loss: 8.8887e-04\n",
      "Epoch 79/100\n",
      "2048/2048 [==============================] - ETA: 0s - loss: 6.5671e-0 - 1s 306us/sample - loss: 6.3881e-04 - val_loss: 7.8525e-04\n",
      "Epoch 80/100\n",
      "2048/2048 [==============================] - 1s 319us/sample - loss: 6.3420e-04 - val_loss: 0.0011\n",
      "Epoch 81/100\n",
      "2048/2048 [==============================] - 1s 325us/sample - loss: 6.3342e-04 - val_loss: 9.5879e-04\n",
      "Epoch 82/100\n",
      "2048/2048 [==============================] - 1s 323us/sample - loss: 8.1778e-04 - val_loss: 7.9638e-04\n",
      "Epoch 83/100\n",
      "2048/2048 [==============================] - 1s 312us/sample - loss: 6.2510e-04 - val_loss: 0.0010\n",
      "Epoch 84/100\n",
      "2048/2048 [==============================] - 1s 317us/sample - loss: 0.0013 - val_loss: 9.9399e-04\n",
      "Epoch 85/100\n",
      "2048/2048 [==============================] - 1s 318us/sample - loss: 7.0501e-04 - val_loss: 6.4033e-04\n",
      "Epoch 86/100\n",
      "2048/2048 [==============================] - 1s 325us/sample - loss: 5.8281e-04 - val_loss: 6.3946e-04\n",
      "Epoch 87/100\n",
      "2048/2048 [==============================] - 1s 317us/sample - loss: 6.5026e-04 - val_loss: 7.7308e-04\n",
      "Epoch 88/100\n",
      "2048/2048 [==============================] - 1s 317us/sample - loss: 7.6395e-04 - val_loss: 9.1945e-04\n",
      "Epoch 89/100\n",
      "2048/2048 [==============================] - 1s 318us/sample - loss: 7.0465e-04 - val_loss: 7.1728e-04\n",
      "Epoch 90/100\n",
      "2048/2048 [==============================] - 1s 317us/sample - loss: 6.8283e-04 - val_loss: 6.3594e-04\n",
      "Epoch 91/100\n",
      "2048/2048 [==============================] - 1s 326us/sample - loss: 6.5512e-04 - val_loss: 5.9028e-04\n",
      "Epoch 92/100\n",
      "2048/2048 [==============================] - 1s 317us/sample - loss: 6.9258e-04 - val_loss: 0.0019\n",
      "Epoch 93/100\n",
      "2048/2048 [==============================] - 1s 317us/sample - loss: 7.1689e-04 - val_loss: 9.7206e-04\n",
      "Epoch 94/100\n",
      "2048/2048 [==============================] - 1s 326us/sample - loss: 5.3935e-04 - val_loss: 8.1087e-04\n",
      "Epoch 95/100\n",
      "2048/2048 [==============================] - 1s 319us/sample - loss: 5.2461e-04 - val_loss: 7.8858e-04\n",
      "Epoch 96/100\n",
      "2048/2048 [==============================] - 1s 324us/sample - loss: 7.5149e-04 - val_loss: 8.1148e-04\n",
      "Epoch 97/100\n",
      "2048/2048 [==============================] - 1s 319us/sample - loss: 4.3083e-04 - val_loss: 5.6114e-04\n",
      "Epoch 98/100\n",
      "2048/2048 [==============================] - 1s 325us/sample - loss: 6.5296e-04 - val_loss: 5.8797e-04\n",
      "Epoch 99/100\n",
      "2048/2048 [==============================] - 1s 318us/sample - loss: 4.9879e-04 - val_loss: 4.8782e-04\n",
      "Epoch 100/100\n",
      "2048/2048 [==============================] - 1s 317us/sample - loss: 4.9555e-04 - val_loss: 7.0455e-04\n"
     ]
    }
   ],
   "source": [
    "X = np.array(X)\n",
    "Y = np.array(Y)\n",
    "\n",
    "history = model.fit(X[:2560], Y[:2560], epochs=100, validation_split=0.2)"
   ]
  },
  {
   "cell_type": "code",
   "execution_count": 20,
   "metadata": {},
   "outputs": [
    {
     "data": {
      "image/png": "[encoded data removed]",
      "text/plain": [
       "<Figure size 432x288 with 1 Axes>"
      ]
     },
     "metadata": {
      "needs_background": "light"
     },
     "output_type": "display_data"
    }
   ],
   "source": [
    "import matplotlib.pyplot as plt\n",
    "plt.plot(history.history['loss'], 'b-', label='loss')\n",
    "plt.plot(history.history['val_loss'], 'r--', label='val_loss')\n",
    "plt.xlabel('Epoch')\n",
    "plt.legend()\n",
    "plt.show()"
   ]
  },
  {
   "cell_type": "code",
   "execution_count": 21,
   "metadata": {},
   "outputs": [
    {
     "name": "stdout",
     "output_type": "stream",
     "text": [
      "440/440 [==============================] - 1s 2ms/sample - loss: 5.9517e-04\n",
      "0.5651872126211629 \t 0.6187391 \tdiff: 0.053551915491630075\n",
      "0.7317425033244865 \t 0.7511824 \tdiff: 0.019439874013922886\n",
      "0.651250426661763 \t 0.7031303 \tdiff: 0.05187987815162198\n",
      "0.017518485144444457 \t 0.012508534 \tdiff: 0.00500995124942874\n",
      "0.16956357541255973 \t 0.17739654 \tdiff: 0.007832960460853355\n",
      "correctness: 92.72727272727272 %\n"
     ]
    }
   ],
   "source": [
    "model.evaluate(X[2560:],Y[ 2560:])\n",
    "prediction = model.predict(X[2560:2567+5])\n",
    "\n",
    "for i in range(5):\n",
    "    print(Y[2560+i], '\\t', prediction[i][0], '\\tdiff:', abs(prediction[i][0] - Y[2560+i]))\n",
    "\n",
    "prediction = model.predict(X[2560:])\n",
    "fail = 0\n",
    "for i in range(len(prediction)):\n",
    "    if abs(prediction[i][0] - Y[2560+i]) > 0.04:\n",
    "        fail += 1\n",
    "print('correctness:', (440 - fail ) / 440 * 100, '%')"
   ]
  },
  {
   "cell_type": "markdown",
   "metadata": {},
   "source": [
    "## GRU 레이어"
   ]
  },
  {
   "cell_type": "code",
   "execution_count": 47,
   "metadata": {},
   "outputs": [
    {
     "name": "stdout",
     "output_type": "stream",
     "text": [
      "ERROR! Session/line number was not unique in database. History logging moved to new session 304\n",
      "Model: \"sequential_4\"\n",
      "_________________________________________________________________\n",
      "Layer (type)                 Output Shape              Param #   \n",
      "=================================================================\n",
      "gru_2 (GRU)                  (None, 100, 30)           3060      \n",
      "_________________________________________________________________\n",
      "gru_3 (GRU)                  (None, 30)                5580      \n",
      "_________________________________________________________________\n",
      "dense_4 (Dense)              (None, 1)                 31        \n",
      "=================================================================\n",
      "Total params: 8,671\n",
      "Trainable params: 8,671\n",
      "Non-trainable params: 0\n",
      "_________________________________________________________________\n"
     ]
    }
   ],
   "source": [
    "model = tf.keras.Sequential([\n",
    "    tf.keras.layers.GRU(units=30, return_sequences=True, input_shape=[100,2]),\n",
    "    tf.keras.layers.GRU(units=30),\n",
    "    tf.keras.layers.Dense(1)\n",
    "])\n",
    "\n",
    "model.compile(optimizer='adam', loss='mse')\n",
    "model.summary()"
   ]
  },
  {
   "cell_type": "code",
   "execution_count": 48,
   "metadata": {},
   "outputs": [
    {
     "name": "stdout",
     "output_type": "stream",
     "text": [
      "Train on 2048 samples, validate on 512 samples\n",
      "Epoch 1/100\n",
      "2048/2048 [==============================] - 3s 2ms/sample - loss: 0.0502 - val_loss: 0.0503\n",
      "Epoch 2/100\n",
      "2048/2048 [==============================] - 1s 310us/sample - loss: 0.0479 - val_loss: 0.0500\n",
      "Epoch 3/100\n",
      "2048/2048 [==============================] - 1s 299us/sample - loss: 0.0476 - val_loss: 0.0502\n",
      "Epoch 4/100\n",
      "2048/2048 [==============================] - 1s 301us/sample - loss: 0.0472 - val_loss: 0.0501\n",
      "Epoch 5/100\n",
      "2048/2048 [==============================] - 1s 304us/sample - loss: 0.0477 - val_loss: 0.0503\n",
      "Epoch 6/100\n",
      "2048/2048 [==============================] - 1s 308us/sample - loss: 0.0472 - val_loss: 0.0501\n",
      "Epoch 7/100\n",
      "2048/2048 [==============================] - 1s 294us/sample - loss: 0.0474 - val_loss: 0.0500\n",
      "Epoch 8/100\n",
      "2048/2048 [==============================] - 1s 320us/sample - loss: 0.0474 - val_loss: 0.0500\n",
      "Epoch 9/100\n",
      "2048/2048 [==============================] - 1s 306us/sample - loss: 0.0470 - val_loss: 0.0506\n",
      "Epoch 10/100\n",
      "2048/2048 [==============================] - 1s 309us/sample - loss: 0.0471 - val_loss: 0.0520\n",
      "Epoch 11/100\n",
      "2048/2048 [==============================] - 1s 300us/sample - loss: 0.0481 - val_loss: 0.0495\n",
      "Epoch 12/100\n",
      "2048/2048 [==============================] - 1s 310us/sample - loss: 0.0468 - val_loss: 0.0497\n",
      "Epoch 13/100\n",
      "2048/2048 [==============================] - 1s 300us/sample - loss: 0.0466 - val_loss: 0.0495\n",
      "Epoch 14/100\n",
      "2048/2048 [==============================] - 1s 302us/sample - loss: 0.0464 - val_loss: 0.0498\n",
      "Epoch 15/100\n",
      "2048/2048 [==============================] - 1s 325us/sample - loss: 0.0457 - val_loss: 0.0503\n",
      "Epoch 16/100\n",
      "2048/2048 [==============================] - 1s 301us/sample - loss: 0.0341 - val_loss: 0.0111\n",
      "Epoch 17/100\n",
      "2048/2048 [==============================] - 1s 309us/sample - loss: 0.0047 - val_loss: 0.0028\n",
      "Epoch 18/100\n",
      "2048/2048 [==============================] - 1s 300us/sample - loss: 0.0019 - val_loss: 0.0020\n",
      "Epoch 19/100\n",
      "2048/2048 [==============================] - 1s 326us/sample - loss: 0.0015 - val_loss: 0.0018\n",
      "Epoch 20/100\n",
      "2048/2048 [==============================] - 1s 311us/sample - loss: 0.0013 - val_loss: 0.0014\n",
      "Epoch 21/100\n",
      "2048/2048 [==============================] - 1s 308us/sample - loss: 0.0015 - val_loss: 0.0020\n",
      "Epoch 22/100\n",
      "2048/2048 [==============================] - 1s 313us/sample - loss: 0.0011 - val_loss: 0.0020\n",
      "Epoch 23/100\n",
      "2048/2048 [==============================] - 1s 305us/sample - loss: 0.0011 - val_loss: 0.0011\n",
      "Epoch 24/100\n",
      "2048/2048 [==============================] - 1s 307us/sample - loss: 9.5323e-04 - val_loss: 0.0010\n",
      "Epoch 25/100\n",
      "2048/2048 [==============================] - 1s 303us/sample - loss: 7.7743e-04 - val_loss: 0.0011\n",
      "Epoch 26/100\n",
      "2048/2048 [==============================] - 1s 310us/sample - loss: 7.4134e-04 - val_loss: 9.4299e-04\n",
      "Epoch 27/100\n",
      "2048/2048 [==============================] - 1s 301us/sample - loss: 7.9680e-04 - val_loss: 9.4704e-04\n",
      "Epoch 28/100\n",
      "2048/2048 [==============================] - 1s 301us/sample - loss: 7.5697e-04 - val_loss: 8.5773e-04\n",
      "Epoch 29/100\n",
      "2048/2048 [==============================] - 1s 318us/sample - loss: 7.5796e-04 - val_loss: 0.0012\n",
      "Epoch 30/100\n",
      "2048/2048 [==============================] - 1s 301us/sample - loss: 6.5975e-04 - val_loss: 8.6994e-04\n",
      "Epoch 31/100\n",
      "2048/2048 [==============================] - 1s 310us/sample - loss: 6.4433e-04 - val_loss: 8.4518e-04\n",
      "Epoch 32/100\n",
      "2048/2048 [==============================] - 1s 309us/sample - loss: 6.8857e-04 - val_loss: 7.8837e-04\n",
      "Epoch 33/100\n",
      "2048/2048 [==============================] - 1s 309us/sample - loss: 5.4195e-04 - val_loss: 8.6195e-04\n",
      "Epoch 34/100\n",
      "2048/2048 [==============================] - 1s 307us/sample - loss: 5.6525e-04 - val_loss: 8.0372e-04\n",
      "Epoch 35/100\n",
      "2048/2048 [==============================] - 1s 311us/sample - loss: 5.9693e-04 - val_loss: 6.5701e-04\n",
      "Epoch 36/100\n",
      "2048/2048 [==============================] - 1s 309us/sample - loss: 4.5790e-04 - val_loss: 7.0676e-04\n",
      "Epoch 37/100\n",
      "2048/2048 [==============================] - 1s 318us/sample - loss: 4.6897e-04 - val_loss: 6.2122e-04\n",
      "Epoch 38/100\n",
      "2048/2048 [==============================] - 1s 310us/sample - loss: 5.2284e-04 - val_loss: 6.6654e-04\n",
      "Epoch 39/100\n",
      "2048/2048 [==============================] - 1s 309us/sample - loss: 4.5537e-04 - val_loss: 6.5090e-04\n",
      "Epoch 40/100\n",
      "2048/2048 [==============================] - 1s 317us/sample - loss: 5.4242e-04 - val_loss: 6.0522e-04\n",
      "Epoch 41/100\n",
      "2048/2048 [==============================] - 1s 307us/sample - loss: 4.5703e-04 - val_loss: 6.3892e-04\n",
      "Epoch 42/100\n",
      "2048/2048 [==============================] - 1s 304us/sample - loss: 4.5717e-04 - val_loss: 6.6681e-04\n",
      "Epoch 43/100\n",
      "2048/2048 [==============================] - 1s 301us/sample - loss: 5.4044e-04 - val_loss: 5.5084e-04\n",
      "Epoch 44/100\n",
      "2048/2048 [==============================] - 1s 309us/sample - loss: 4.4432e-04 - val_loss: 6.6493e-04\n",
      "Epoch 45/100\n",
      "2048/2048 [==============================] - 1s 302us/sample - loss: 3.9719e-04 - val_loss: 5.5943e-04\n",
      "Epoch 46/100\n",
      "2048/2048 [==============================] - 1s 308us/sample - loss: 3.5616e-04 - val_loss: 5.3515e-04\n",
      "Epoch 47/100\n",
      "2048/2048 [==============================] - 1s 301us/sample - loss: 4.3257e-04 - val_loss: 5.0525e-04\n",
      "Epoch 48/100\n",
      "2048/2048 [==============================] - 1s 309us/sample - loss: 3.6219e-04 - val_loss: 7.6919e-04\n",
      "Epoch 49/100\n",
      "2048/2048 [==============================] - 1s 318us/sample - loss: 3.4642e-04 - val_loss: 6.2077e-04\n",
      "Epoch 50/100\n",
      "2048/2048 [==============================] - 1s 302us/sample - loss: 3.8380e-04 - val_loss: 6.1789e-04\n",
      "Epoch 51/100\n",
      "2048/2048 [==============================] - 1s 309us/sample - loss: 3.8330e-04 - val_loss: 4.5628e-04\n",
      "Epoch 52/100\n",
      "2048/2048 [==============================] - 1s 309us/sample - loss: 3.3465e-04 - val_loss: 4.8086e-04\n",
      "Epoch 53/100\n",
      "2048/2048 [==============================] - 1s 317us/sample - loss: 3.6601e-04 - val_loss: 5.4364e-04\n",
      "Epoch 54/100\n",
      "2048/2048 [==============================] - 1s 301us/sample - loss: 3.4026e-04 - val_loss: 5.2319e-04\n",
      "Epoch 55/100\n",
      "2048/2048 [==============================] - 1s 309us/sample - loss: 2.9857e-04 - val_loss: 4.3694e-04\n",
      "Epoch 56/100\n",
      "2048/2048 [==============================] - 1s 302us/sample - loss: 3.2509e-04 - val_loss: 4.2800e-04\n",
      "Epoch 57/100\n",
      "2048/2048 [==============================] - 1s 309us/sample - loss: 3.5552e-04 - val_loss: 4.6227e-04\n",
      "Epoch 58/100\n",
      "2048/2048 [==============================] - 1s 317us/sample - loss: 3.3218e-04 - val_loss: 5.3454e-04\n",
      "Epoch 59/100\n",
      "2048/2048 [==============================] - 1s 309us/sample - loss: 3.0864e-04 - val_loss: 4.3949e-04\n",
      "Epoch 60/100\n",
      "2048/2048 [==============================] - 1s 302us/sample - loss: 2.9629e-04 - val_loss: 3.9385e-04\n",
      "Epoch 61/100\n",
      "2048/2048 [==============================] - 1s 309us/sample - loss: 3.1423e-04 - val_loss: 3.6852e-04\n",
      "Epoch 62/100\n",
      "2048/2048 [==============================] - 1s 309us/sample - loss: 2.7665e-04 - val_loss: 3.5464e-04\n",
      "Epoch 63/100\n",
      "2048/2048 [==============================] - 1s 309us/sample - loss: 3.0359e-04 - val_loss: 3.9664e-04\n",
      "Epoch 64/100\n",
      "2048/2048 [==============================] - 1s 308us/sample - loss: 2.5534e-04 - val_loss: 4.7546e-04\n",
      "Epoch 65/100\n",
      "2048/2048 [==============================] - 1s 303us/sample - loss: 3.0307e-04 - val_loss: 3.7421e-04\n",
      "Epoch 66/100\n",
      "2048/2048 [==============================] - 1s 309us/sample - loss: 2.7457e-04 - val_loss: 3.8749e-04\n",
      "Epoch 67/100\n",
      "2048/2048 [==============================] - 1s 309us/sample - loss: 2.6444e-04 - val_loss: 3.4840e-04\n",
      "Epoch 68/100\n",
      "2048/2048 [==============================] - 1s 317us/sample - loss: 2.5795e-04 - val_loss: 4.2331e-04\n",
      "Epoch 69/100\n",
      "2048/2048 [==============================] - 1s 310us/sample - loss: 2.3350e-04 - val_loss: 3.1962e-04\n",
      "Epoch 70/100\n",
      "2048/2048 [==============================] - 1s 309us/sample - loss: 2.1309e-04 - val_loss: 3.7750e-04\n",
      "Epoch 71/100\n",
      "2048/2048 [==============================] - 1s 302us/sample - loss: 2.0883e-04 - val_loss: 3.2300e-04\n",
      "Epoch 72/100\n",
      "2048/2048 [==============================] - 1s 317us/sample - loss: 2.7618e-04 - val_loss: 3.0361e-04\n",
      "Epoch 73/100\n",
      "2048/2048 [==============================] - 1s 309us/sample - loss: 2.7379e-04 - val_loss: 4.5419e-04\n",
      "Epoch 74/100\n",
      "2048/2048 [==============================] - 1s 302us/sample - loss: 2.9096e-04 - val_loss: 4.6262e-04\n",
      "Epoch 75/100\n",
      "2048/2048 [==============================] - 1s 309us/sample - loss: 2.5403e-04 - val_loss: 3.0817e-04\n",
      "Epoch 76/100\n",
      "2048/2048 [==============================] - 1s 309us/sample - loss: 2.5107e-04 - val_loss: 3.4428e-04\n",
      "Epoch 77/100\n",
      "2048/2048 [==============================] - 1s 308us/sample - loss: 2.3827e-04 - val_loss: 3.2087e-04\n",
      "Epoch 78/100\n",
      "2048/2048 [==============================] - 1s 310us/sample - loss: 2.7845e-04 - val_loss: 3.5405e-04\n",
      "Epoch 79/100\n",
      "2048/2048 [==============================] - 1s 302us/sample - loss: 2.4455e-04 - val_loss: 2.5972e-04\n",
      "Epoch 80/100\n",
      "2048/2048 [==============================] - 1s 317us/sample - loss: 2.1852e-04 - val_loss: 3.2010e-04\n",
      "Epoch 81/100\n",
      "2048/2048 [==============================] - 1s 309us/sample - loss: 2.0505e-04 - val_loss: 2.5171e-04\n",
      "Epoch 82/100\n",
      "2048/2048 [==============================] - 1s 316us/sample - loss: 2.5155e-04 - val_loss: 3.4083e-04\n",
      "Epoch 83/100\n",
      "2048/2048 [==============================] - 1s 301us/sample - loss: 1.8214e-04 - val_loss: 2.3887e-04\n",
      "Epoch 84/100\n",
      "2048/2048 [==============================] - 1s 310us/sample - loss: 2.1468e-04 - val_loss: 2.6016e-04\n",
      "Epoch 85/100\n",
      "2048/2048 [==============================] - 1s 309us/sample - loss: 1.8735e-04 - val_loss: 2.6552e-04\n",
      "Epoch 86/100\n",
      "2048/2048 [==============================] - 1s 301us/sample - loss: 1.8601e-04 - val_loss: 2.5869e-04\n",
      "Epoch 87/100\n",
      "2048/2048 [==============================] - 1s 310us/sample - loss: 1.8011e-04 - val_loss: 3.9050e-04\n",
      "Epoch 88/100\n",
      "2048/2048 [==============================] - 1s 310us/sample - loss: 2.5423e-04 - val_loss: 3.4369e-04\n",
      "Epoch 89/100\n",
      "2048/2048 [==============================] - 1s 301us/sample - loss: 2.4002e-04 - val_loss: 3.6865e-04\n",
      "Epoch 90/100\n",
      "2048/2048 [==============================] - 1s 317us/sample - loss: 1.8898e-04 - val_loss: 2.3727e-04\n",
      "Epoch 91/100\n",
      "2048/2048 [==============================] - 1s 302us/sample - loss: 1.8602e-04 - val_loss: 2.3154e-04\n",
      "Epoch 92/100\n",
      "2048/2048 [==============================] - 1s 309us/sample - loss: 1.6639e-04 - val_loss: 2.3048e-04\n",
      "Epoch 93/100\n",
      "2048/2048 [==============================] - 1s 309us/sample - loss: 1.7408e-04 - val_loss: 2.4733e-04\n",
      "Epoch 94/100\n",
      "2048/2048 [==============================] - 1s 309us/sample - loss: 1.4205e-04 - val_loss: 2.2889e-04\n",
      "Epoch 95/100\n",
      "2048/2048 [==============================] - 1s 302us/sample - loss: 2.1576e-04 - val_loss: 4.9037e-04\n",
      "Epoch 96/100\n",
      "2048/2048 [==============================] - 1s 317us/sample - loss: 1.7294e-04 - val_loss: 2.0940e-04\n",
      "Epoch 97/100\n",
      "2048/2048 [==============================] - 1s 310us/sample - loss: 1.7294e-04 - val_loss: 3.3621e-04\n",
      "Epoch 98/100\n",
      "2048/2048 [==============================] - 1s 299us/sample - loss: 1.9852e-04 - val_loss: 3.2297e-04\n",
      "Epoch 99/100\n",
      "2048/2048 [==============================] - 1s 311us/sample - loss: 1.7170e-04 - val_loss: 2.2113e-04\n",
      "Epoch 100/100\n",
      "2048/2048 [==============================] - 1s 312us/sample - loss: 1.5413e-04 - val_loss: 2.9907e-04\n"
     ]
    }
   ],
   "source": [
    "X = np.array(X)\n",
    "Y = np.array(Y)\n",
    "\n",
    "history = model.fit(X[:2560], Y[:2560], epochs=100, validation_split=0.2)"
   ]
  },
  {
   "cell_type": "code",
   "execution_count": 49,
   "metadata": {},
   "outputs": [
    {
     "data": {
      "image/png": "[encoded data removed]",
      "text/plain": [
       "<Figure size 432x288 with 1 Axes>"
      ]
     },
     "metadata": {
      "needs_background": "light"
     },
     "output_type": "display_data"
    }
   ],
   "source": [
    "import matplotlib.pyplot as plt\n",
    "plt.plot(history.history['loss'], 'b-', label='loss')\n",
    "plt.plot(history.history['val_loss'], 'r--', label='val_loss')\n",
    "plt.xlabel('Epoch')\n",
    "plt.legend()\n",
    "plt.show()"
   ]
  },
  {
   "cell_type": "code",
   "execution_count": 51,
   "metadata": {},
   "outputs": [
    {
     "name": "stdout",
     "output_type": "stream",
     "text": [
      "correctness: 98.4090909090909 %\n"
     ]
    }
   ],
   "source": [
    "prediction = model.predict(X[2560:])\n",
    "cnt = 0\n",
    "for i in range(len(prediction)):\n",
    "    if abs(prediction[i][0] - Y[2560+i]) > 0.04:\n",
    "        cnt += 1\n",
    "print('correctness:', (440 - cnt) / 440 * 100, '%')"
   ]
  },
  {
   "cell_type": "markdown",
   "metadata": {},
   "source": [
    "## Embedding 레이어"
   ]
  },
  {
   "cell_type": "code",
   "execution_count": 53,
   "metadata": {},
   "outputs": [
    {
     "data": {
      "text/plain": [
       "<keras_preprocessing.text.Tokenizer at 0x169c268df48>"
      ]
     },
     "execution_count": 53,
     "metadata": {},
     "output_type": "execute_result"
    }
   ],
   "source": [
    "tf.keras.preprocessing.text.Tokenizer(\n",
    "    num_words=None, filters='!\"#$%&()*+,-./:;<=>?@[\\\\]^_`{|}~\\t\\n', lower=True,\n",
    "    split=' ', char_level=False, oov_token=None, document_count=0\n",
    ")"
   ]
  },
  {
   "cell_type": "code",
   "execution_count": 54,
   "metadata": {},
   "outputs": [
    {
     "name": "stdout",
     "output_type": "stream",
     "text": [
      "sequences :  [1, 3, 4]\n",
      "word_index :  {'i': 1, 'love': 2, 'deep': 3, 'learning': 4}\n"
     ]
    }
   ],
   "source": [
    "t = tf.keras.preprocessing.text.Tokenizer() \n",
    "fit_text = \"I love Deep Learning\" \n",
    "t.fit_on_texts([fit_text]) \n",
    "test_text = \"I like Deep Learning\" \n",
    "sequences = t.texts_to_sequences([test_text])[0] \n",
    "\n",
    "print(\"sequences : \",sequences) # great는 단어 집합(vocabulary)에 없으므로 출력되지 않는다.\n",
    "print(\"word_index : \",t.word_index) # 단어 집합(vocabulary) 출력"
   ]
  },
  {
   "cell_type": "code",
   "execution_count": 55,
   "metadata": {},
   "outputs": [
    {
     "data": {
      "text/plain": [
       "array([[1, 2, 3],\n",
       "       [4, 5, 6],\n",
       "       [0, 7, 8]])"
      ]
     },
     "execution_count": 55,
     "metadata": {},
     "output_type": "execute_result"
    }
   ],
   "source": [
    "tf.keras.preprocessing.sequence.pad_sequences([[1, 2, 3], [3, 4, 5, 6], [7, 8]], maxlen=3, padding='pre')"
   ]
  },
  {
   "cell_type": "code",
   "execution_count": null,
   "metadata": {},
   "outputs": [],
   "source": []
  },
  {
   "cell_type": "code",
   "execution_count": null,
   "metadata": {},
   "outputs": [],
   "source": []
  },
  {
   "cell_type": "markdown",
   "metadata": {},
   "source": [
    "## 긍정, 부정 감정 분석"
   ]
  },
  {
   "cell_type": "code",
   "execution_count": 58,
   "metadata": {},
   "outputs": [],
   "source": [
    "path_to_train_file = tf.keras.utils.get_file('train.txt', 'https://raw.githubusercontent.com/e9t/nsmc/master/ratings_train.txt')\n",
    "path_to_test_file = tf.keras.utils.get_file('train.txt', 'https://raw.githubusercontent.com/e9t/nsmc/master/ratings_test.txt')"
   ]
  },
  {
   "cell_type": "code",
   "execution_count": 85,
   "metadata": {
    "collapsed": true,
    "jupyter": {
     "outputs_hidden": true
    }
   },
   "outputs": [
    {
     "data": {
      "text/html": [
       "<div>\n",
       "<style scoped>\n",
       "    .dataframe tbody tr th:only-of-type {\n",
       "        vertical-align: middle;\n",
       "    }\n",
       "\n",
       "    .dataframe tbody tr th {\n",
       "        vertical-align: top;\n",
       "    }\n",
       "\n",
       "    .dataframe thead th {\n",
       "        text-align: right;\n",
       "    }\n",
       "</style>\n",
       "<table border=\"1\" class=\"dataframe\">\n",
       "  <thead>\n",
       "    <tr style=\"text-align: right;\">\n",
       "      <th></th>\n",
       "      <th>id</th>\n",
       "      <th>document</th>\n",
       "      <th>label</th>\n",
       "    </tr>\n",
       "  </thead>\n",
       "  <tbody>\n",
       "    <tr>\n",
       "      <th>0</th>\n",
       "      <td>9976970</td>\n",
       "      <td>아 더빙.. 진짜 짜증나네요 목소리</td>\n",
       "      <td>0</td>\n",
       "    </tr>\n",
       "    <tr>\n",
       "      <th>1</th>\n",
       "      <td>3819312</td>\n",
       "      <td>흠...포스터보고 초딩영화줄....오버연기조차 가볍지 않구나</td>\n",
       "      <td>1</td>\n",
       "    </tr>\n",
       "    <tr>\n",
       "      <th>2</th>\n",
       "      <td>10265843</td>\n",
       "      <td>너무재밓었다그래서보는것을추천한다</td>\n",
       "      <td>0</td>\n",
       "    </tr>\n",
       "    <tr>\n",
       "      <th>3</th>\n",
       "      <td>9045019</td>\n",
       "      <td>교도소 이야기구먼 ..솔직히 재미는 없다..평점 조정</td>\n",
       "      <td>0</td>\n",
       "    </tr>\n",
       "    <tr>\n",
       "      <th>4</th>\n",
       "      <td>6483659</td>\n",
       "      <td>사이몬페그의 익살스런 연기가 돋보였던 영화!스파이더맨에서 늙어보이기만 했던 커스틴 ...</td>\n",
       "      <td>1</td>\n",
       "    </tr>\n",
       "  </tbody>\n",
       "</table>\n",
       "</div>"
      ],
      "text/plain": [
       "         id                                           document  label\n",
       "0   9976970                                아 더빙.. 진짜 짜증나네요 목소리      0\n",
       "1   3819312                  흠...포스터보고 초딩영화줄....오버연기조차 가볍지 않구나      1\n",
       "2  10265843                                  너무재밓었다그래서보는것을추천한다      0\n",
       "3   9045019                      교도소 이야기구먼 ..솔직히 재미는 없다..평점 조정      0\n",
       "4   6483659  사이몬페그의 익살스런 연기가 돋보였던 영화!스파이더맨에서 늙어보이기만 했던 커스틴 ...      1"
      ]
     },
     "execution_count": 85,
     "metadata": {},
     "output_type": "execute_result"
    }
   ],
   "source": [
    "# 데이터프레임이 더 낫다\n",
    "import pandas as pd\n",
    "data = pd.read_csv(path_to_train_file, sep='\\t')\n",
    "data.head()"
   ]
  },
  {
   "cell_type": "code",
   "execution_count": 59,
   "metadata": {},
   "outputs": [],
   "source": [
    "# 데이터 불러오기, 인코딩 utf-8\n",
    "train_text = open(path_to_train_file, 'rb').read().decode(encoding='utf-8')\n",
    "test_text = open(path_to_test_file, 'rb').read().decode(encoding='utf-8')"
   ]
  },
  {
   "cell_type": "code",
   "execution_count": 81,
   "metadata": {},
   "outputs": [
    {
     "name": "stdout",
     "output_type": "stream",
     "text": [
      "Length of text: 6937271 characters\n",
      "Length of text: 6937271 characters\n",
      "\n",
      "id\tdocument\tlabel\n",
      "9976970\t아 더빙.. 진짜 짜증나네요 목소리\t0\n",
      "3819312\t흠...포스터보고 초딩영화줄....오버연기조차 가볍지 않구나\t1\n",
      "10265843\t너무재밓었다그래서보는것을추천한다\t0\n",
      "9045019\t교도소 이야기구먼 ..솔직히 재미는 없다..평점 조정\t0\n",
      "6483659\t사이몬페그의 익살스런 연기가 돋보였던 영화!스파이더맨에서 늙어보이기만 했던 커스틴 던스트가 너무나도 이뻐보였다\t1\n",
      "5403919\t막 걸음마 뗀 3세부터 초등학교 1학년생인 8살용영화.ㅋㅋㅋ...별반개도 아까움.\t0\n",
      "7797314\t원작의 긴장감을 제대로 살려내지못했다.\t0\n",
      "9443947\t별 반개도 아깝다 욕나온다 이응경 길용우 연기생활이몇년인\n",
      "ERROR! Session/line number was not unique in database. History logging moved to new session 315\n"
     ]
    }
   ],
   "source": [
    "# 텍스트 글자수 확인\n",
    "print('Length of text: {} characters'.format(len(train_text)))\n",
    "print('Length of text: {} characters'.format(len(test_text)))\n",
    "print()\n",
    "\n",
    "# 처음 300자\n",
    "print(train_text[:360])"
   ]
  },
  {
   "cell_type": "code",
   "execution_count": 82,
   "metadata": {},
   "outputs": [
    {
     "name": "stdout",
     "output_type": "stream",
     "text": [
      "(150000, 1) (150000, 1)\n",
      "[[0]\n",
      " [1]\n",
      " [0]\n",
      " [0]\n",
      " [1]]\n"
     ]
    }
   ],
   "source": [
    "# 학습을 위한 정답 데이터(Y)\n",
    "train_Y = np.array([[int(row.split('\\t')[2])] for row in train_text.split('\\n')[1:] if row.count('\\t') > 0])\n",
    "test_Y = np.array([[int(row.split('\\t')[2])] for row in test_text.split('\\n')[1:] if row.count('\\t') > 0])\n",
    "print(train_Y.shape, test_Y.shape)\n",
    "print(train_Y[:5])"
   ]
  },
  {
   "cell_type": "code",
   "execution_count": 86,
   "metadata": {},
   "outputs": [
    {
     "name": "stdout",
     "output_type": "stream",
     "text": [
      "['아', '더빙..', '진짜', '짜증나네요', '목소리']\n",
      "['흠...포스터보고', '초딩영화줄....오버연기조차', '가볍지', '않구나']\n",
      "['너무재밓었다그래서보는것을추천한다']\n",
      "['교도소', '이야기구먼', '..솔직히', '재미는', '없다..평점', '조정']\n",
      "['사이몬페그의', '익살스런', '연기가', '돋보였던', '영화!스파이더맨에서', '늙어보이기만', '했던', '커스틴', '던스트가', '너무나도', '이뻐보였다']\n"
     ]
    }
   ],
   "source": [
    "# 데이터 정제\n",
    "import re\n",
    "# https://github.com/yoonkim/CNN_sentence/blob/master/process_data.py\n",
    "def clean_str(string, TREC=False):\n",
    "    \"\"\"\n",
    "    Tokenization/string cleaning for all datasets except for SST.\n",
    "    Every dataset is lower cased except for TREC\n",
    "    \"\"\"\n",
    "    string = re.sub(r\"[^A-Za-z0-9(),!?\\'\\`]\", \" \", string)     \n",
    "    string = re.sub(r\"\\'s\", \" \\'s\", string) \n",
    "    string = re.sub(r\"\\'ve\", \" \\'ve\", string) \n",
    "    string = re.sub(r\"n\\'t\", \" n\\'t\", string) \n",
    "    string = re.sub(r\"\\'re\", \" \\'re\", string) \n",
    "    string = re.sub(r\"\\'d\", \" \\'d\", string) \n",
    "    string = re.sub(r\"\\'ll\", \" \\'ll\", string) \n",
    "    string = re.sub(r\",\", \" , \", string) \n",
    "    string = re.sub(r\"!\", \" ! \", string) \n",
    "    string = re.sub(r\"\\(\", \" \\( \", string) \n",
    "    string = re.sub(r\"\\)\", \" \\) \", string) \n",
    "    string = re.sub(r\"\\?\", \" \\? \", string) \n",
    "    string = re.sub(r\"\\s{2,}\", \" \", string) \n",
    "    string = re.sub(r\"\\'{2,}\", \"\\'\", string) \n",
    "    string = re.sub(r\"\\''\", \"\", string) \n",
    "    \n",
    "    return string.lower()\n",
    "\n",
    "train_text_X = [row.split('\\t')[1] for row in train_text.split('\\n')[1:] if row.count('\\t') > 0]\n",
    "test_text_X = [clean_str(sentence) for sentence in train_text_X]\n",
    "# 문장을 띄어쓰기 단위로 단어 분리\n",
    "sentences = [sentence.split(' ') for sentence in train_text_X]\n",
    "for i in range(5):\n",
    "    print(sentences[i])"
   ]
  },
  {
   "cell_type": "code",
   "execution_count": 87,
   "metadata": {},
   "outputs": [
    {
     "data": {
      "image/png": "[encoded data removed]",
      "text/plain": [
       "<Figure size 432x288 with 1 Axes>"
      ]
     },
     "metadata": {
      "needs_background": "light"
     },
     "output_type": "display_data"
    },
    {
     "name": "stdout",
     "output_type": "stream",
     "text": [
      "144646\n"
     ]
    }
   ],
   "source": [
    "import matplotlib.pyplot as plt\n",
    "sentence_len = [len(sentence) for sentence in sentences]\n",
    "sentence_len.sort()\n",
    "plt.plot(sentence_len)\n",
    "plt.show()\n",
    "\n",
    "print(sum([int(l<=25) for l in sentence_len]))"
   ]
  },
  {
   "cell_type": "code",
   "execution_count": 88,
   "metadata": {},
   "outputs": [
    {
     "name": "stdout",
     "output_type": "stream",
     "text": [
      "['아', '더빙..', '진짜', '짜증나네요', '목소리']\n",
      "['흠...포', '초딩영화줄', '가볍지', '않구나']\n",
      "['너무재밓었']\n",
      "['교도소', '이야기구먼', '..솔직히', '재미는', '없다..평', '조정']\n",
      "['사이몬페그', '익살스런', '연기가', '돋보였던', '영화!스파', '늙어보이기', '했던', '커스틴', '던스트가', '너무나도', '이뻐보였다']\n"
     ]
    }
   ],
   "source": [
    "sentences_new = []\n",
    "for sentence in sentences:\n",
    "    sentences_new.append([word[:5] for word in sentence][:25])\n",
    "sentences = sentences_new\n",
    "for i in range(5):\n",
    "    print(sentences[i])"
   ]
  },
  {
   "cell_type": "code",
   "execution_count": 92,
   "metadata": {},
   "outputs": [
    {
     "data": {
      "text/plain": [
       "'id\\tdocument\\tlabel\\n9976970\\t아 더빙.. 진짜 짜증나네요 목소리\\t0\\n3819312\\t흠...포스터보고 초딩영화줄....오버연기조차 가볍지 않구나\\t1\\n10265843'"
      ]
     },
     "execution_count": 92,
     "metadata": {},
     "output_type": "execute_result"
    },
    {
     "name": "stdout",
     "output_type": "stream",
     "text": [
      "ERROR! Session/line number was not unique in database. History logging moved to new session 318\n"
     ]
    }
   ],
   "source": [
    "from konlpy.corpus import kolaw\n",
    "kolaw = train_text\n",
    "kolaw[:100]"
   ]
  },
  {
   "cell_type": "code",
   "execution_count": 93,
   "metadata": {},
   "outputs": [
    {
     "name": "stdout",
     "output_type": "stream",
     "text": [
      "영화(50737) 정말(9645) 진짜(8343) 이(8001) 점(7930) 연기(6434) 평점(6324) 것(6315) 최고(6035) 스토리(5344) 생각(5314) 왜(5157) 드라마(5063) 감동(4879) 사람(4836) 보고(4612) 말(4565) 더(4366) 때(4314) 내(4306) 배우(4297) 거(4139) 감독(4126) 재미(3930) 내용(3899) 그냥(3838) 뭐(3813) 그(3698) 좀(3655) 쓰레기(3542) 시간(3446) 수(3253) 나(3060) 작품(2964) 사랑(2943) 다시(2838) 하나(2838) 볼(2790) 마지막(2755) 이건(2688) 완전(2542) 정도(2523) 처음(2452) 장면(2436) 액션(2397) 주인공(2382) 걸(2328) 최악(2268) 지금(2206) 돈(2205) \n"
     ]
    }
   ],
   "source": [
    "from konlpy.tag import Okt\n",
    "\n",
    "okt = Okt()\n",
    "word_dic = {}\n",
    "lines = kolaw.split('\\t')\n",
    "for line in lines:\n",
    "    malist = okt.pos(line)\n",
    "    for word in malist:\n",
    "        if word[1] == 'Noun':\n",
    "            if not (word[0] in word_dic):\n",
    "                word_dic[word[0]] = 0\n",
    "            word_dic[word[0]] += 1\n",
    "#빈도\n",
    "keys = sorted(word_dic.items(), key=lambda x:x[1], reverse=True)\n",
    "for word, count in keys[:50]:\n",
    "    print(\"{0}({1}) \".format(word, count), end=\"\")\n",
    "print()"
   ]
  },
  {
   "cell_type": "code",
   "execution_count": 89,
   "metadata": {},
   "outputs": [
    {
     "name": "stdout",
     "output_type": "stream",
     "text": [
      "[[   49     4  6717  1068     0     0     0     0     0     0     0     0\n",
      "      0     0     0     0     0     0     0     0     0     0     0     0\n",
      "      0]\n",
      " [ 6718     0     0     0     0     0     0     0     0     0     0     0\n",
      "      0     0     0     0     0     0     0     0     0     0     0     0\n",
      "      0]\n",
      " [    0     0     0     0     0     0     0     0     0     0     0     0\n",
      "      0     0     0     0     0     0     0     0     0     0     0     0\n",
      "      0]\n",
      " [  324 11089     0     0     0     0     0     0     0     0     0     0\n",
      "      0     0     0     0     0     0     0     0     0     0     0     0\n",
      "      0]\n",
      " [   95  5218   787   501     0     0     0     0     0     0     0     0\n",
      "      0     0     0     0     0     0     0     0     0     0     0     0\n",
      "      0]]\n"
     ]
    }
   ],
   "source": [
    "from tensorflow.keras.preprocessing.text import Tokenizer\n",
    "from tensorflow.keras.preprocessing.sequence import pad_sequences\n",
    "\n",
    "tokenizer = Tokenizer(num_words=20000)\n",
    "tokenizer.fit_on_texts(sentences)\n",
    "train_X = tokenizer.texts_to_sequences(sentences)\n",
    "train_X = pad_sequences(train_X, padding='post')\n",
    "\n",
    "print(train_X[:5])"
   ]
  },
  {
   "cell_type": "code",
   "execution_count": 108,
   "metadata": {},
   "outputs": [
    {
     "name": "stdout",
     "output_type": "stream",
     "text": [
      "작품!!!\n",
      "최고인데\n",
      "[[], [19945], [19946], [95]]\n",
      "[[    0]\n",
      " [19945]\n",
      " [19946]\n",
      " [   95]]\n"
     ]
    }
   ],
   "source": [
    "print(tokenizer.index_word[19998])\n",
    "print(tokenizer.index_word[20000])\n",
    "\n",
    "temp = tokenizer.texts_to_sequences(['#$#$#', '경우는', '잊혀질', '연기가'])\n",
    "print(temp)\n",
    "temp = pad_sequences(temp, padding='post')\n",
    "print(temp)"
   ]
  },
  {
   "cell_type": "code",
   "execution_count": 77,
   "metadata": {},
   "outputs": [
    {
     "name": "stdout",
     "output_type": "stream",
     "text": [
      "ERROR! Session/line number was not unique in database. History logging moved to new session 312\n",
      "Model: \"sequential_6\"\n",
      "_________________________________________________________________\n",
      "Layer (type)                 Output Shape              Param #   \n",
      "=================================================================\n",
      "embedding_1 (Embedding)      (None, 25, 300)           6000000   \n",
      "_________________________________________________________________\n",
      "lstm_3 (LSTM)                (None, 50)                70200     \n",
      "_________________________________________________________________\n",
      "dense_6 (Dense)              (None, 2)                 102       \n",
      "=================================================================\n",
      "Total params: 6,070,302\n",
      "Trainable params: 6,070,302\n",
      "Non-trainable params: 0\n",
      "_________________________________________________________________\n"
     ]
    }
   ],
   "source": [
    "model = tf.keras.Sequential([\n",
    "    tf.keras.layers.Embedding(20000, 300, input_length=25),\n",
    "    tf.keras.layers.LSTM(units=50),\n",
    "    tf.keras.layers.Dense(2, activation='softmax')\n",
    "])\n",
    "\n",
    "model.compile(optimizer='adam', loss='sparse_categorical_crossentropy',\n",
    "             metrics=['accuracy'])\n",
    "model.summary()"
   ]
  },
  {
   "cell_type": "code",
   "execution_count": 78,
   "metadata": {},
   "outputs": [
    {
     "name": "stdout",
     "output_type": "stream",
     "text": [
      "Train on 120000 samples, validate on 30000 samples\n",
      "Epoch 1/5\n",
      "120000/120000 [==============================] - 62s 516us/sample - loss: 0.4727 - accuracy: 0.7519 - val_loss: 0.4238 - val_accuracy: 0.7930\n",
      "Epoch 2/5\n",
      "120000/120000 [==============================] - 60s 504us/sample - loss: 0.3555 - accuracy: 0.8242 - val_loss: 0.4175 - val_accuracy: 0.7968\n",
      "Epoch 3/5\n",
      "120000/120000 [==============================] - 61s 507us/sample - loss: 0.3019 - accuracy: 0.8450 - val_loss: 0.4554 - val_accuracy: 0.7934\n",
      "Epoch 4/5\n",
      "120000/120000 [==============================] - 62s 514us/sample - loss: 0.2586 - accuracy: 0.8654 - val_loss: 0.5121 - val_accuracy: 0.7867\n",
      "Epoch 5/5\n",
      "120000/120000 [==============================] - 63s 526us/sample - loss: 0.2255 - accuracy: 0.8805 - val_loss: 0.5705 - val_accuracy: 0.7856\n"
     ]
    }
   ],
   "source": [
    "history = model.fit(train_X, train_Y, epochs=5, batch_size=128, validation_split=0.2)"
   ]
  },
  {
   "cell_type": "code",
   "execution_count": 98,
   "metadata": {},
   "outputs": [
    {
     "data": {
      "image/png": "[encoded data removed]",
      "text/plain": [
       "<Figure size 864x360 with 2 Axes>"
      ]
     },
     "metadata": {
      "needs_background": "light"
     },
     "output_type": "display_data"
    }
   ],
   "source": [
    "plt.figure(figsize=(12,5))\n",
    "\n",
    "plt.subplot(1, 2, 1)\n",
    "plt.plot(history.history['loss'], 'b-', label='loss')\n",
    "plt.plot(history.history['val_loss'], 'r--', label='var_loss')\n",
    "plt.xlabel(\"Epoch\")\n",
    "plt.legend()\n",
    "\n",
    "plt.subplot(1, 2, 2)\n",
    "plt.plot(history.history['accuracy'], 'g-', label='accuracy')\n",
    "plt.plot(history.history['val_accuracy'], 'r--', label='var_accuracy')\n",
    "plt.xlabel(\"Epoch\")\n",
    "plt.ylim(0.7, 1)\n",
    "plt.legend()\n",
    "\n",
    "plt.show()"
   ]
  },
  {
   "cell_type": "code",
   "execution_count": 79,
   "metadata": {},
   "outputs": [
    {
     "data": {
      "text/plain": [
       "[0.2682723677142461, 0.8753333]"
      ]
     },
     "execution_count": 79,
     "metadata": {},
     "output_type": "execute_result"
    }
   ],
   "source": [
    "train_text_X = [row.split('\\t')[1] for row in train_text.split('\\n')[1:] if row.count('\\t') > 0]\n",
    "test_text_X = [clean_str(sentence) for sentence in train_text_X]\n",
    "\n",
    "sentences = [sentence.split(' ') for sentence in train_text_X]\n",
    "sentences_new = []\n",
    "for sentence in sentences:\n",
    "    sentences_new.append([word[:5] for word in sentence][:25])\n",
    "sentences = sentences_new\n",
    "test_X = tokenizer.texts_to_sequences(sentences)\n",
    "test_X = pad_sequences(test_X, padding='post')\n",
    "\n",
    "model.evaluate(test_X, test_Y, verbose=0)"
   ]
  },
  {
   "cell_type": "code",
   "execution_count": 124,
   "metadata": {},
   "outputs": [
    {
     "name": "stdout",
     "output_type": "stream",
     "text": [
      "['돈이']\n",
      "[0.98061806 0.01938189]\n"
     ]
    }
   ],
   "source": [
    "test_sentence = '돈이'\n",
    "test_sentence = test_sentence.split(' ')\n",
    "test_sentences = []\n",
    "now_sentence = []\n",
    "\n",
    "for word in test_sentence:\n",
    "    now_sentence.append(word)\n",
    "    test_sentences.append(now_sentence[:])\n",
    "    \n",
    "test_X_1 = tokenizer.texts_to_sequences(test_sentences)\n",
    "test_X_1 = pad_sequences(test_X_1, padding='post', maxlen=25)\n",
    "prediction = model.predict(test_X_1)\n",
    "\n",
    "for idx, sentence in enumerate(test_sentences):\n",
    "    print(sentence)\n",
    "    print(prediction[idx])"
   ]
  },
  {
   "cell_type": "markdown",
   "metadata": {},
   "source": [
    "# 자연어 생성"
   ]
  },
  {
   "cell_type": "code",
   "execution_count": 10,
   "metadata": {},
   "outputs": [],
   "source": [
    "path_to_file = tf.keras.utils.get_file('input1.txt', 'http://bit.ly/2Mc3SOV')"
   ]
  },
  {
   "cell_type": "code",
   "execution_count": 34,
   "metadata": {},
   "outputs": [
    {
     "name": "stdout",
     "output_type": "stream",
     "text": [
      "Length of text: 26265493 characters\n",
      "\n",
      "﻿태조 이성계 선대의 가계. 목조 이안사가 전주에서 삼척·의주를 거쳐 알동에 정착하다 \n",
      "태조 강헌 지인 계운 성문 신무 대왕(太祖康獻至仁啓運聖文神武大王)의 성은 이씨(李氏)요, 휘\n"
     ]
    }
   ],
   "source": [
    "# 데이터 불러오기, 인코딩 utf-8\n",
    "train_text = open(path_to_file, 'rb').read().decode(encoding='utf-8')\n",
    "\n",
    "print('Length of text: {} characters'.format(len(train_text)))\n",
    "print()\n",
    "\n",
    "print(train_text[:100])"
   ]
  },
  {
   "cell_type": "code",
   "execution_count": 35,
   "metadata": {},
   "outputs": [
    {
     "name": "stdout",
     "output_type": "stream",
     "text": [
      "['태조', '이성계', '선대의', '가계', '목조', '이안사가', '전주에서', '삼척', '의주를', '거쳐', '알동에', '정착하다', '\\n', '태조', '강헌', '지인', '계운', '성문', '신무', '대왕']\n"
     ]
    }
   ],
   "source": [
    "# 데이터 정제\n",
    "import re\n",
    "# https://github.com/yoonkim/CNN_sentence/blob/master/process_data.py\n",
    "def clean_str(string):\n",
    "    \"\"\"\n",
    "    Tokenization/string cleaning for all datasets except for SST.\n",
    "    Every dataset is lower cased except for TREC\n",
    "    \"\"\"\n",
    "    string = re.sub(r\"[^가-힣A-Za-z0-9(),!?\\'\\`]\", \" \", string)     \n",
    "    string = re.sub(r\"\\'ll\", \" \\'ll\", string) \n",
    "    string = re.sub(r\",\", \" , \", string) \n",
    "    string = re.sub(r\"!\", \" ! \", string) \n",
    "    string = re.sub(r\"\\(\", \"\", string) \n",
    "    string = re.sub(r\"\\)\", \"\", string) \n",
    "    string = re.sub(r\"\\?\", \" \\? \", string) \n",
    "    string = re.sub(r\"\\s{2,}\", \" \", string) \n",
    "    string = re.sub(r\"\\'{2,}\", \"\\'\", string) \n",
    "    string = re.sub(r\"\\'\", \"\", string) \n",
    "    \n",
    "    return string\n",
    "\n",
    "train_text = train_text.split('\\n')\n",
    "train_text = [clean_str(sentence) for sentence in train_text]\n",
    "train_text_X = []\n",
    "for sentence in train_text:\n",
    "              train_text_X.extend(sentence.split(' '))\n",
    "              train_text_X.append('\\n')\n",
    "              \n",
    "train_text_X = [word for word in train_text_X if word != '']\n",
    "print(train_text_X[:20])     "
   ]
  },
  {
   "cell_type": "code",
   "execution_count": 36,
   "metadata": {},
   "outputs": [
    {
     "name": "stdout",
     "output_type": "stream",
     "text": [
      " 332640 unique words\n",
      "{\n",
      " '\\n':   0, \n",
      " '!' :   1, \n",
      " ',' :   2, \n",
      " '000명으로':   3, \n",
      " '001':   4, \n",
      " '002':   5, \n",
      " '003':   6, \n",
      " '004':   7, \n",
      " '005':   8, \n",
      " '006':   9, \n",
      " ...\n",
      "\n",
      "index of UNK: 332639\n"
     ]
    }
   ],
   "source": [
    "# 단어의 set을 만든다\n",
    "vocab = sorted(set(train_text_X))\n",
    "vocab.append('UNK')\n",
    "print(' {} unique words'.format(len(vocab)))\n",
    "\n",
    "# vocab list를 숫자로 매핑하고, 반대도 실행\n",
    "word2idx = {u:i for i, u in enumerate(vocab)}\n",
    "idx2word = np.array(vocab)\n",
    "\n",
    "text_as_int = np.array([word2idx[c] for c in train_text_X])\n",
    "\n",
    "# word2idx의 일부를 알아보기 쉽게 출력\n",
    "print('{')\n",
    "for word,_ in zip(word2idx, range(10)):\n",
    "    print(' {:4s}: {:3d}, '.format(repr(word), word2idx[word]))\n",
    "print(' ...\\n')\n",
    "\n",
    "print('index of UNK: {}'.format(word2idx['UNK']))"
   ]
  },
  {
   "cell_type": "code",
   "execution_count": 38,
   "metadata": {},
   "outputs": [
    {
     "name": "stdout",
     "output_type": "stream",
     "text": [
      "['태조', '이성계', '선대의', '가계', '목조', '이안사가', '전주에서', '삼척', '의주를', '거쳐', '알동에', '정착하다', '\\n', '태조', '강헌', '지인', '계운', '성문', '신무', '대왕']\n",
      "[299305 229634 161443  17430 111029 230292 251081 155087 225462  29027\n",
      " 190295 256129      0 299305  25624 273553  36147 163996 180466  84413]\n"
     ]
    }
   ],
   "source": [
    "print(train_text_X[:20])\n",
    "print(text_as_int[:20])"
   ]
  },
  {
   "cell_type": "code",
   "execution_count": 39,
   "metadata": {},
   "outputs": [
    {
     "name": "stdout",
     "output_type": "stream",
     "text": [
      "['태조' '이성계' '선대의' '가계' '목조' '이안사가' '전주에서' '삼척' '의주를' '거쳐' '알동에' '정착하다'\n",
      " '\\n' '태조' '강헌' '지인' '계운' '성문' '신무' '대왕' '의' '성은' '이씨' '요' ',' '휘']\n",
      "[299305 229634 161443  17430 111029 230292 251081 155087 225462  29027\n",
      " 190295 256129      0 299305  25624 273553  36147 163996 180466  84413\n",
      " 224182 164549 230248 210912      2 330313]\n"
     ]
    }
   ],
   "source": [
    "seq_length = 25\n",
    "examples_per_epoch = len(text_as_int) // seq_length\n",
    "sentence_dataset = tf.data.Dataset.from_tensor_slices(text_as_int)\n",
    "sentence_dataset = sentence_dataset.batch(seq_length+1, drop_remainder=True)\n",
    "for item in sentence_dataset.take(1):\n",
    "    print(idx2word[item.numpy()])\n",
    "    print(item.numpy())"
   ]
  },
  {
   "cell_type": "code",
   "execution_count": 40,
   "metadata": {},
   "outputs": [
    {
     "name": "stdout",
     "output_type": "stream",
     "text": [
      "WARNING:tensorflow:AutoGraph could not transform <function split_input_target at 0x00000220F8C8BA68> and will run it as-is.\n",
      "Please report this to the TensorFlow team. When filing the bug, set the verbosity to 10 (on Linux, `export AUTOGRAPH_VERBOSITY=10`) and attach the full output.\n",
      "Cause: No module named 'tensorflow_core.estimator'\n"
     ]
    },
    {
     "name": "stderr",
     "output_type": "stream",
     "text": [
      "WARNING:tensorflow:AutoGraph could not transform <function split_input_target at 0x00000220F8C8BA68> and will run it as-is.\n",
      "Please report this to the TensorFlow team. When filing the bug, set the verbosity to 10 (on Linux, `export AUTOGRAPH_VERBOSITY=10`) and attach the full output.\n",
      "Cause: No module named 'tensorflow_core.estimator'\n"
     ]
    },
    {
     "name": "stdout",
     "output_type": "stream",
     "text": [
      "WARNING: AutoGraph could not transform <function split_input_target at 0x00000220F8C8BA68> and will run it as-is.\n",
      "Please report this to the TensorFlow team. When filing the bug, set the verbosity to 10 (on Linux, `export AUTOGRAPH_VERBOSITY=10`) and attach the full output.\n",
      "Cause: No module named 'tensorflow_core.estimator'\n",
      "['태조' '이성계' '선대의' '가계' '목조' '이안사가' '전주에서' '삼척' '의주를' '거쳐' '알동에' '정착하다'\n",
      " '\\n' '태조' '강헌' '지인' '계운' '성문' '신무' '대왕' '의' '성은' '이씨' '요' ',']\n",
      "[299305 229634 161443  17430 111029 230292 251081 155087 225462  29027\n",
      " 190295 256129      0 299305  25624 273553  36147 163996 180466  84413\n",
      " 224182 164549 230248 210912      2]\n",
      "휘\n",
      "330313\n"
     ]
    }
   ],
   "source": [
    "def split_input_target(chunk):\n",
    "    return [chunk[:-1], chunk[-1]]\n",
    "\n",
    "train_dataset = sentence_dataset.map(split_input_target)\n",
    "for x, y in train_dataset.take(1):\n",
    "    print(idx2word[x.numpy()])\n",
    "    print(x.numpy())\n",
    "    print(idx2word[y.numpy()])\n",
    "    print(y.numpy())"
   ]
  },
  {
   "cell_type": "code",
   "execution_count": 41,
   "metadata": {},
   "outputs": [],
   "source": [
    "BATCH_SIZE = 128\n",
    "steps_per_epoch = examples_per_epoch // BATCH_SIZE\n",
    "BUFFER_SIZE = 10000\n",
    "\n",
    "train_dataset = train_dataset.shuffle(BUFFER_SIZE).batch(BATCH_SIZE, drop_remainder=True)"
   ]
  },
  {
   "cell_type": "code",
   "execution_count": 42,
   "metadata": {},
   "outputs": [
    {
     "name": "stdout",
     "output_type": "stream",
     "text": [
      "Model: \"sequential_1\"\n",
      "_________________________________________________________________\n",
      "Layer (type)                 Output Shape              Param #   \n",
      "=================================================================\n",
      "embedding_1 (Embedding)      (None, 25, 100)           33264000  \n",
      "_________________________________________________________________\n",
      "lstm_2 (LSTM)                (None, 25, 100)           80400     \n",
      "_________________________________________________________________\n",
      "dropout_1 (Dropout)          (None, 25, 100)           0         \n",
      "_________________________________________________________________\n",
      "lstm_3 (LSTM)                (None, 100)               80400     \n",
      "_________________________________________________________________\n",
      "dense_1 (Dense)              (None, 332640)            33596640  \n",
      "=================================================================\n",
      "Total params: 67,021,440\n",
      "Trainable params: 67,021,440\n",
      "Non-trainable params: 0\n",
      "_________________________________________________________________\n"
     ]
    }
   ],
   "source": [
    "total_words = len(vocab)\n",
    "model = tf.keras.Sequential([\n",
    "    tf.keras.layers.Embedding(total_words, 100, input_length=seq_length),\n",
    "    tf.keras.layers.LSTM(units=100, return_sequences=True),\n",
    "    tf.keras.layers.Dropout(0.2),\n",
    "    tf.keras.layers.LSTM(units=100),\n",
    "    tf.keras.layers.Dense(total_words, activation='softmax')\n",
    "])\n",
    "\n",
    "model.compile(optimizer='adam', loss='sparse_categorical_crossentropy', metrics=['accuracy'])\n",
    "model.summary()"
   ]
  },
  {
   "cell_type": "code",
   "execution_count": null,
   "metadata": {},
   "outputs": [
    {
     "name": "stdout",
     "output_type": "stream",
     "text": [
      "ERROR! Session/line number was not unique in database. History logging moved to new session 335\n",
      "Train for 2135 steps\n",
      "Epoch 1/50\n"
     ]
    },
    {
     "name": "stderr",
     "output_type": "stream",
     "text": [
      "ERROR:root:Internal Python error in the inspect module.\n",
      "Below is the traceback from this internal error.\n",
      "\n",
      "ERROR:root:Internal Python error in the inspect module.\n",
      "Below is the traceback from this internal error.\n",
      "\n",
      "ERROR:root:Internal Python error in the inspect module.\n",
      "Below is the traceback from this internal error.\n",
      "\n"
     ]
    },
    {
     "name": "stdout",
     "output_type": "stream",
     "text": [
      "Traceback (most recent call last):\n",
      "  File \"C:\\Users\\BIT\\anaconda3\\envs\\tf2\\lib\\site-packages\\IPython\\core\\interactiveshell.py\", line 3417, in run_code\n",
      "    exec(code_obj, self.user_global_ns, self.user_ns)\n",
      "  File \"<ipython-input-47-32382878d647>\", line 23, in <module>\n",
      "    history = model.fit(train_dataset.repeat(), epochs=50, steps_per_epoch=steps_per_epoch, callbacks=[testmodelcb], verbose=2)\n",
      "  File \"C:\\Users\\BIT\\anaconda3\\envs\\tf2\\lib\\site-packages\\tensorflow_core\\python\\keras\\engine\\training.py\", line 819, in fit\n",
      "    use_multiprocessing=use_multiprocessing)\n",
      "  File \"C:\\Users\\BIT\\anaconda3\\envs\\tf2\\lib\\site-packages\\tensorflow_core\\python\\keras\\engine\\training_v2.py\", line 397, in fit\n",
      "    prefix='val_')\n",
      "  File \"C:\\Users\\BIT\\anaconda3\\envs\\tf2\\lib\\contextlib.py\", line 119, in __exit__\n",
      "    next(self.gen)\n",
      "  File \"C:\\Users\\BIT\\anaconda3\\envs\\tf2\\lib\\site-packages\\tensorflow_core\\python\\keras\\engine\\training_v2.py\", line 771, in on_epoch\n",
      "    self.callbacks.on_epoch_end(epoch, epoch_logs)\n",
      "  File \"C:\\Users\\BIT\\anaconda3\\envs\\tf2\\lib\\site-packages\\tensorflow_core\\python\\keras\\callbacks.py\", line 302, in on_epoch_end\n",
      "    callback.on_epoch_end(epoch, logs)\n",
      "  File \"<ipython-input-47-32382878d647>\", line 10, in testmodel\n",
      "    test_text_X = test_sentence.split(' ')[-seq_length:]\n",
      "UnboundLocalError: local variable 'test_sentence' referenced before assignment\n",
      "\n",
      "During handling of the above exception, another exception occurred:\n",
      "\n",
      "Traceback (most recent call last):\n",
      "  File \"C:\\Users\\BIT\\anaconda3\\envs\\tf2\\lib\\site-packages\\IPython\\core\\interactiveshell.py\", line 2044, in showtraceback\n",
      "    stb = value._render_traceback_()\n",
      "AttributeError: 'UnboundLocalError' object has no attribute '_render_traceback_'\n",
      "\n",
      "During handling of the above exception, another exception occurred:\n",
      "\n",
      "Traceback (most recent call last):\n",
      "  File \"C:\\Users\\BIT\\anaconda3\\envs\\tf2\\lib\\site-packages\\IPython\\core\\ultratb.py\", line 1169, in get_records\n",
      "    return _fixed_getinnerframes(etb, number_of_lines_of_context, tb_offset)\n",
      "  File \"C:\\Users\\BIT\\anaconda3\\envs\\tf2\\lib\\site-packages\\IPython\\core\\ultratb.py\", line 316, in wrapped\n",
      "    return f(*args, **kwargs)\n",
      "  File \"C:\\Users\\BIT\\anaconda3\\envs\\tf2\\lib\\site-packages\\IPython\\core\\ultratb.py\", line 350, in _fixed_getinnerframes\n",
      "    records = fix_frame_records_filenames(inspect.getinnerframes(etb, context))\n",
      "  File \"C:\\Users\\BIT\\anaconda3\\envs\\tf2\\lib\\inspect.py\", line 1502, in getinnerframes\n",
      "    frameinfo = (tb.tb_frame,) + getframeinfo(tb, context)\n",
      "  File \"C:\\Users\\BIT\\anaconda3\\envs\\tf2\\lib\\inspect.py\", line 1460, in getframeinfo\n",
      "    filename = getsourcefile(frame) or getfile(frame)\n",
      "  File \"C:\\Users\\BIT\\anaconda3\\envs\\tf2\\lib\\inspect.py\", line 696, in getsourcefile\n",
      "    if getattr(getmodule(object, filename), '__loader__', None) is not None:\n",
      "  File \"C:\\Users\\BIT\\anaconda3\\envs\\tf2\\lib\\inspect.py\", line 733, in getmodule\n",
      "    if ismodule(module) and hasattr(module, '__file__'):\n",
      "  File \"C:\\Users\\BIT\\anaconda3\\envs\\tf2\\lib\\site-packages\\tensorflow\\__init__.py\", line 50, in __getattr__\n",
      "    module = self._load()\n",
      "  File \"C:\\Users\\BIT\\anaconda3\\envs\\tf2\\lib\\site-packages\\tensorflow\\__init__.py\", line 44, in _load\n",
      "    module = _importlib.import_module(self.__name__)\n",
      "  File \"C:\\Users\\BIT\\anaconda3\\envs\\tf2\\lib\\importlib\\__init__.py\", line 127, in import_module\n",
      "    return _bootstrap._gcd_import(name[level:], package, level)\n",
      "  File \"<frozen importlib._bootstrap>\", line 1006, in _gcd_import\n",
      "  File \"<frozen importlib._bootstrap>\", line 983, in _find_and_load\n",
      "  File \"<frozen importlib._bootstrap>\", line 965, in _find_and_load_unlocked\n",
      "ModuleNotFoundError: No module named 'tensorflow_core.estimator'\n",
      "Traceback (most recent call last):\n",
      "  File \"C:\\Users\\BIT\\anaconda3\\envs\\tf2\\lib\\site-packages\\IPython\\core\\interactiveshell.py\", line 3417, in run_code\n",
      "    exec(code_obj, self.user_global_ns, self.user_ns)\n",
      "  File \"<ipython-input-47-32382878d647>\", line 23, in <module>\n",
      "    history = model.fit(train_dataset.repeat(), epochs=50, steps_per_epoch=steps_per_epoch, callbacks=[testmodelcb], verbose=2)\n",
      "  File \"C:\\Users\\BIT\\anaconda3\\envs\\tf2\\lib\\site-packages\\tensorflow_core\\python\\keras\\engine\\training.py\", line 819, in fit\n",
      "    use_multiprocessing=use_multiprocessing)\n",
      "  File \"C:\\Users\\BIT\\anaconda3\\envs\\tf2\\lib\\site-packages\\tensorflow_core\\python\\keras\\engine\\training_v2.py\", line 397, in fit\n",
      "    prefix='val_')\n",
      "  File \"C:\\Users\\BIT\\anaconda3\\envs\\tf2\\lib\\contextlib.py\", line 119, in __exit__\n",
      "    next(self.gen)\n",
      "  File \"C:\\Users\\BIT\\anaconda3\\envs\\tf2\\lib\\site-packages\\tensorflow_core\\python\\keras\\engine\\training_v2.py\", line 771, in on_epoch\n",
      "    self.callbacks.on_epoch_end(epoch, epoch_logs)\n",
      "  File \"C:\\Users\\BIT\\anaconda3\\envs\\tf2\\lib\\site-packages\\tensorflow_core\\python\\keras\\callbacks.py\", line 302, in on_epoch_end\n",
      "    callback.on_epoch_end(epoch, logs)\n",
      "  File \"<ipython-input-47-32382878d647>\", line 10, in testmodel\n",
      "    test_text_X = test_sentence.split(' ')[-seq_length:]\n",
      "UnboundLocalError: local variable 'test_sentence' referenced before assignment\n",
      "\n",
      "During handling of the above exception, another exception occurred:\n",
      "\n",
      "Traceback (most recent call last):\n",
      "  File \"C:\\Users\\BIT\\anaconda3\\envs\\tf2\\lib\\site-packages\\IPython\\core\\interactiveshell.py\", line 2044, in showtraceback\n",
      "    stb = value._render_traceback_()\n",
      "AttributeError: 'UnboundLocalError' object has no attribute '_render_traceback_'\n",
      "\n",
      "During handling of the above exception, another exception occurred:\n",
      "\n",
      "Traceback (most recent call last):\n",
      "  File \"C:\\Users\\BIT\\anaconda3\\envs\\tf2\\lib\\site-packages\\IPython\\core\\interactiveshell.py\", line 3337, in run_ast_nodes\n",
      "    if (await self.run_code(code, result,  async_=asy)):\n",
      "  File \"C:\\Users\\BIT\\anaconda3\\envs\\tf2\\lib\\site-packages\\IPython\\core\\interactiveshell.py\", line 3434, in run_code\n",
      "    self.showtraceback(running_compiled_code=True)\n",
      "  File \"C:\\Users\\BIT\\anaconda3\\envs\\tf2\\lib\\site-packages\\IPython\\core\\interactiveshell.py\", line 2047, in showtraceback\n",
      "    value, tb, tb_offset=tb_offset)\n",
      "  File \"C:\\Users\\BIT\\anaconda3\\envs\\tf2\\lib\\site-packages\\IPython\\core\\ultratb.py\", line 1436, in structured_traceback\n",
      "    self, etype, value, tb, tb_offset, number_of_lines_of_context)\n",
      "  File \"C:\\Users\\BIT\\anaconda3\\envs\\tf2\\lib\\site-packages\\IPython\\core\\ultratb.py\", line 1336, in structured_traceback\n",
      "    self, etype, value, tb, tb_offset, number_of_lines_of_context\n",
      "  File \"C:\\Users\\BIT\\anaconda3\\envs\\tf2\\lib\\site-packages\\IPython\\core\\ultratb.py\", line 1193, in structured_traceback\n",
      "    tb_offset)\n",
      "  File \"C:\\Users\\BIT\\anaconda3\\envs\\tf2\\lib\\site-packages\\IPython\\core\\ultratb.py\", line 1150, in format_exception_as_a_whole\n",
      "    last_unique, recursion_repeat = find_recursion(orig_etype, evalue, records)\n",
      "  File \"C:\\Users\\BIT\\anaconda3\\envs\\tf2\\lib\\site-packages\\IPython\\core\\ultratb.py\", line 451, in find_recursion\n",
      "    return len(records), 0\n",
      "TypeError: object of type 'NoneType' has no len()\n",
      "\n",
      "During handling of the above exception, another exception occurred:\n",
      "\n",
      "Traceback (most recent call last):\n",
      "  File \"C:\\Users\\BIT\\anaconda3\\envs\\tf2\\lib\\site-packages\\IPython\\core\\interactiveshell.py\", line 2044, in showtraceback\n",
      "    stb = value._render_traceback_()\n",
      "AttributeError: 'TypeError' object has no attribute '_render_traceback_'\n",
      "\n",
      "During handling of the above exception, another exception occurred:\n",
      "\n",
      "Traceback (most recent call last):\n",
      "  File \"C:\\Users\\BIT\\anaconda3\\envs\\tf2\\lib\\site-packages\\IPython\\core\\ultratb.py\", line 1169, in get_records\n",
      "    return _fixed_getinnerframes(etb, number_of_lines_of_context, tb_offset)\n",
      "  File \"C:\\Users\\BIT\\anaconda3\\envs\\tf2\\lib\\site-packages\\IPython\\core\\ultratb.py\", line 316, in wrapped\n",
      "    return f(*args, **kwargs)\n",
      "  File \"C:\\Users\\BIT\\anaconda3\\envs\\tf2\\lib\\site-packages\\IPython\\core\\ultratb.py\", line 350, in _fixed_getinnerframes\n",
      "    records = fix_frame_records_filenames(inspect.getinnerframes(etb, context))\n",
      "  File \"C:\\Users\\BIT\\anaconda3\\envs\\tf2\\lib\\inspect.py\", line 1502, in getinnerframes\n",
      "    frameinfo = (tb.tb_frame,) + getframeinfo(tb, context)\n",
      "  File \"C:\\Users\\BIT\\anaconda3\\envs\\tf2\\lib\\inspect.py\", line 1460, in getframeinfo\n",
      "    filename = getsourcefile(frame) or getfile(frame)\n",
      "  File \"C:\\Users\\BIT\\anaconda3\\envs\\tf2\\lib\\inspect.py\", line 696, in getsourcefile\n",
      "    if getattr(getmodule(object, filename), '__loader__', None) is not None:\n",
      "  File \"C:\\Users\\BIT\\anaconda3\\envs\\tf2\\lib\\inspect.py\", line 733, in getmodule\n",
      "    if ismodule(module) and hasattr(module, '__file__'):\n",
      "  File \"C:\\Users\\BIT\\anaconda3\\envs\\tf2\\lib\\site-packages\\tensorflow\\__init__.py\", line 50, in __getattr__\n",
      "    module = self._load()\n",
      "  File \"C:\\Users\\BIT\\anaconda3\\envs\\tf2\\lib\\site-packages\\tensorflow\\__init__.py\", line 44, in _load\n",
      "    module = _importlib.import_module(self.__name__)\n",
      "  File \"C:\\Users\\BIT\\anaconda3\\envs\\tf2\\lib\\importlib\\__init__.py\", line 127, in import_module\n",
      "    return _bootstrap._gcd_import(name[level:], package, level)\n",
      "  File \"<frozen importlib._bootstrap>\", line 1006, in _gcd_import\n",
      "  File \"<frozen importlib._bootstrap>\", line 983, in _find_and_load\n",
      "  File \"<frozen importlib._bootstrap>\", line 965, in _find_and_load_unlocked\n",
      "ModuleNotFoundError: No module named 'tensorflow_core.estimator'\n",
      "Traceback (most recent call last):\n",
      "  File \"C:\\Users\\BIT\\anaconda3\\envs\\tf2\\lib\\site-packages\\IPython\\core\\interactiveshell.py\", line 3417, in run_code\n",
      "    exec(code_obj, self.user_global_ns, self.user_ns)\n",
      "  File \"<ipython-input-47-32382878d647>\", line 23, in <module>\n",
      "    history = model.fit(train_dataset.repeat(), epochs=50, steps_per_epoch=steps_per_epoch, callbacks=[testmodelcb], verbose=2)\n",
      "  File \"C:\\Users\\BIT\\anaconda3\\envs\\tf2\\lib\\site-packages\\tensorflow_core\\python\\keras\\engine\\training.py\", line 819, in fit\n",
      "    use_multiprocessing=use_multiprocessing)\n",
      "  File \"C:\\Users\\BIT\\anaconda3\\envs\\tf2\\lib\\site-packages\\tensorflow_core\\python\\keras\\engine\\training_v2.py\", line 397, in fit\n",
      "    prefix='val_')\n",
      "  File \"C:\\Users\\BIT\\anaconda3\\envs\\tf2\\lib\\contextlib.py\", line 119, in __exit__\n",
      "    next(self.gen)\n",
      "  File \"C:\\Users\\BIT\\anaconda3\\envs\\tf2\\lib\\site-packages\\tensorflow_core\\python\\keras\\engine\\training_v2.py\", line 771, in on_epoch\n",
      "    self.callbacks.on_epoch_end(epoch, epoch_logs)\n",
      "  File \"C:\\Users\\BIT\\anaconda3\\envs\\tf2\\lib\\site-packages\\tensorflow_core\\python\\keras\\callbacks.py\", line 302, in on_epoch_end\n",
      "    callback.on_epoch_end(epoch, logs)\n",
      "  File \"<ipython-input-47-32382878d647>\", line 10, in testmodel\n",
      "    test_text_X = test_sentence.split(' ')[-seq_length:]\n",
      "UnboundLocalError: local variable 'test_sentence' referenced before assignment\n",
      "\n",
      "During handling of the above exception, another exception occurred:\n",
      "\n",
      "Traceback (most recent call last):\n",
      "  File \"C:\\Users\\BIT\\anaconda3\\envs\\tf2\\lib\\site-packages\\IPython\\core\\interactiveshell.py\", line 2044, in showtraceback\n",
      "    stb = value._render_traceback_()\n",
      "AttributeError: 'UnboundLocalError' object has no attribute '_render_traceback_'\n",
      "\n",
      "During handling of the above exception, another exception occurred:\n",
      "\n",
      "Traceback (most recent call last):\n",
      "  File \"C:\\Users\\BIT\\anaconda3\\envs\\tf2\\lib\\site-packages\\IPython\\core\\interactiveshell.py\", line 3337, in run_ast_nodes\n",
      "    if (await self.run_code(code, result,  async_=asy)):\n",
      "  File \"C:\\Users\\BIT\\anaconda3\\envs\\tf2\\lib\\site-packages\\IPython\\core\\interactiveshell.py\", line 3434, in run_code\n",
      "    self.showtraceback(running_compiled_code=True)\n",
      "  File \"C:\\Users\\BIT\\anaconda3\\envs\\tf2\\lib\\site-packages\\IPython\\core\\interactiveshell.py\", line 2047, in showtraceback\n",
      "    value, tb, tb_offset=tb_offset)\n",
      "  File \"C:\\Users\\BIT\\anaconda3\\envs\\tf2\\lib\\site-packages\\IPython\\core\\ultratb.py\", line 1436, in structured_traceback\n",
      "    self, etype, value, tb, tb_offset, number_of_lines_of_context)\n",
      "  File \"C:\\Users\\BIT\\anaconda3\\envs\\tf2\\lib\\site-packages\\IPython\\core\\ultratb.py\", line 1336, in structured_traceback\n",
      "    self, etype, value, tb, tb_offset, number_of_lines_of_context\n",
      "  File \"C:\\Users\\BIT\\anaconda3\\envs\\tf2\\lib\\site-packages\\IPython\\core\\ultratb.py\", line 1193, in structured_traceback\n",
      "    tb_offset)\n",
      "  File \"C:\\Users\\BIT\\anaconda3\\envs\\tf2\\lib\\site-packages\\IPython\\core\\ultratb.py\", line 1150, in format_exception_as_a_whole\n",
      "    last_unique, recursion_repeat = find_recursion(orig_etype, evalue, records)\n",
      "  File \"C:\\Users\\BIT\\anaconda3\\envs\\tf2\\lib\\site-packages\\IPython\\core\\ultratb.py\", line 451, in find_recursion\n",
      "    return len(records), 0\n",
      "TypeError: object of type 'NoneType' has no len()\n",
      "\n",
      "During handling of the above exception, another exception occurred:\n",
      "\n",
      "Traceback (most recent call last):\n",
      "  File \"C:\\Users\\BIT\\anaconda3\\envs\\tf2\\lib\\site-packages\\IPython\\core\\interactiveshell.py\", line 2044, in showtraceback\n",
      "    stb = value._render_traceback_()\n",
      "AttributeError: 'TypeError' object has no attribute '_render_traceback_'\n",
      "\n",
      "During handling of the above exception, another exception occurred:\n",
      "\n",
      "Traceback (most recent call last):\n",
      "  File \"C:\\Users\\BIT\\anaconda3\\envs\\tf2\\lib\\site-packages\\IPython\\core\\interactiveshell.py\", line 2922, in _run_cell\n",
      "    return runner(coro)\n",
      "  File \"C:\\Users\\BIT\\anaconda3\\envs\\tf2\\lib\\site-packages\\IPython\\core\\async_helpers.py\", line 68, in _pseudo_sync_runner\n",
      "    coro.send(None)\n",
      "  File \"C:\\Users\\BIT\\anaconda3\\envs\\tf2\\lib\\site-packages\\IPython\\core\\interactiveshell.py\", line 3146, in run_cell_async\n",
      "    interactivity=interactivity, compiler=compiler, result=result)\n",
      "  File \"C:\\Users\\BIT\\anaconda3\\envs\\tf2\\lib\\site-packages\\IPython\\core\\interactiveshell.py\", line 3356, in run_ast_nodes\n",
      "    self.showtraceback()\n",
      "  File \"C:\\Users\\BIT\\anaconda3\\envs\\tf2\\lib\\site-packages\\IPython\\core\\interactiveshell.py\", line 2047, in showtraceback\n",
      "    value, tb, tb_offset=tb_offset)\n",
      "  File \"C:\\Users\\BIT\\anaconda3\\envs\\tf2\\lib\\site-packages\\IPython\\core\\ultratb.py\", line 1436, in structured_traceback\n",
      "    self, etype, value, tb, tb_offset, number_of_lines_of_context)\n",
      "  File \"C:\\Users\\BIT\\anaconda3\\envs\\tf2\\lib\\site-packages\\IPython\\core\\ultratb.py\", line 1336, in structured_traceback\n",
      "    self, etype, value, tb, tb_offset, number_of_lines_of_context\n",
      "  File \"C:\\Users\\BIT\\anaconda3\\envs\\tf2\\lib\\site-packages\\IPython\\core\\ultratb.py\", line 1211, in structured_traceback\n",
      "    chained_exceptions_tb_offset)\n",
      "  File \"C:\\Users\\BIT\\anaconda3\\envs\\tf2\\lib\\site-packages\\IPython\\core\\ultratb.py\", line 1150, in format_exception_as_a_whole\n",
      "    last_unique, recursion_repeat = find_recursion(orig_etype, evalue, records)\n",
      "  File \"C:\\Users\\BIT\\anaconda3\\envs\\tf2\\lib\\site-packages\\IPython\\core\\ultratb.py\", line 451, in find_recursion\n",
      "    return len(records), 0\n",
      "TypeError: object of type 'NoneType' has no len()\n",
      "\n",
      "During handling of the above exception, another exception occurred:\n",
      "\n",
      "Traceback (most recent call last):\n",
      "  File \"C:\\Users\\BIT\\anaconda3\\envs\\tf2\\lib\\site-packages\\IPython\\core\\interactiveshell.py\", line 2044, in showtraceback\n",
      "    stb = value._render_traceback_()\n",
      "AttributeError: 'TypeError' object has no attribute '_render_traceback_'\n",
      "\n",
      "During handling of the above exception, another exception occurred:\n",
      "\n",
      "Traceback (most recent call last):\n",
      "  File \"C:\\Users\\BIT\\anaconda3\\envs\\tf2\\lib\\site-packages\\IPython\\core\\ultratb.py\", line 1169, in get_records\n",
      "    return _fixed_getinnerframes(etb, number_of_lines_of_context, tb_offset)\n",
      "  File \"C:\\Users\\BIT\\anaconda3\\envs\\tf2\\lib\\site-packages\\IPython\\core\\ultratb.py\", line 316, in wrapped\n",
      "    return f(*args, **kwargs)\n",
      "  File \"C:\\Users\\BIT\\anaconda3\\envs\\tf2\\lib\\site-packages\\IPython\\core\\ultratb.py\", line 350, in _fixed_getinnerframes\n",
      "    records = fix_frame_records_filenames(inspect.getinnerframes(etb, context))\n",
      "  File \"C:\\Users\\BIT\\anaconda3\\envs\\tf2\\lib\\inspect.py\", line 1502, in getinnerframes\n",
      "    frameinfo = (tb.tb_frame,) + getframeinfo(tb, context)\n",
      "  File \"C:\\Users\\BIT\\anaconda3\\envs\\tf2\\lib\\inspect.py\", line 1460, in getframeinfo\n",
      "    filename = getsourcefile(frame) or getfile(frame)\n",
      "  File \"C:\\Users\\BIT\\anaconda3\\envs\\tf2\\lib\\inspect.py\", line 696, in getsourcefile\n",
      "    if getattr(getmodule(object, filename), '__loader__', None) is not None:\n",
      "  File \"C:\\Users\\BIT\\anaconda3\\envs\\tf2\\lib\\inspect.py\", line 733, in getmodule\n",
      "    if ismodule(module) and hasattr(module, '__file__'):\n",
      "  File \"C:\\Users\\BIT\\anaconda3\\envs\\tf2\\lib\\site-packages\\tensorflow\\__init__.py\", line 50, in __getattr__\n",
      "    module = self._load()\n",
      "  File \"C:\\Users\\BIT\\anaconda3\\envs\\tf2\\lib\\site-packages\\tensorflow\\__init__.py\", line 44, in _load\n",
      "    module = _importlib.import_module(self.__name__)\n",
      "  File \"C:\\Users\\BIT\\anaconda3\\envs\\tf2\\lib\\importlib\\__init__.py\", line 127, in import_module\n",
      "    return _bootstrap._gcd_import(name[level:], package, level)\n",
      "  File \"<frozen importlib._bootstrap>\", line 1006, in _gcd_import\n",
      "  File \"<frozen importlib._bootstrap>\", line 983, in _find_and_load\n",
      "  File \"<frozen importlib._bootstrap>\", line 965, in _find_and_load_unlocked\n",
      "ModuleNotFoundError: No module named 'tensorflow_core.estimator'\n"
     ]
    }
   ],
   "source": [
    "from tensorflow.keras.preprocessing.sequence import pad_sequences\n",
    "\n",
    "def testmodel(epoch, logs):\n",
    "    if epoch % 5 != 0 and epoch != 49:\n",
    "        return\n",
    "    test_sequence = train_text[0]\n",
    "    \n",
    "    next_words = 100\n",
    "    for _ in range(next_words):\n",
    "        test_text_X = test_sentence.split(' ')[-seq_length:]\n",
    "        test_text_X = np.array([word2idx[c] if c in word2idx else word2idx['UNK'] for c in test_text_X])\n",
    "        test_text_x = pad_sequences([test_text_X], maxlen=seq_length, padding='pre', value=word2idx['UNK'])\n",
    "        \n",
    "        output_idx = model.predict_classes(test_text_X)\n",
    "        test_sentence += ' ' + idx2word[output_idx[0]]\n",
    "        \n",
    "    print()\n",
    "    print(test_sentence)\n",
    "    print()\n",
    "        \n",
    "testmodelcb = tf.keras.callbacks.LambdaCallback(on_epoch_end=testmodel)\n",
    "\n",
    "history = model.fit(train_dataset.repeat(), epochs=50, steps_per_epoch=steps_per_epoch, callbacks=[testmodelcb], verbose=2)"
   ]
  },
  {
   "cell_type": "code",
   "execution_count": null,
   "metadata": {},
   "outputs": [],
   "source": [
    "from tensorflow.keras.preprocessing.sequence import pad_sequences\n",
    "test_sentesce = ' '\n",
    "\n",
    "enxt_words = 100\n",
    "for _ in range(next_words):\n",
    "    test_text_X = test_sentence.split(' ')[-seq_length:]\n",
    "    test_text_X = np.array([word2idx[c] if c in word2idx else word2idx['UNK'] for c in test_text_X])\n",
    "    test_text_x = pad_sequences([test_text_X], maxlen=seq_length, padding='pre', value=word2idx['UNK'])\n",
    "        \n",
    "    output_idx = model.predict_classes(test_text_X)\n",
    "    test_sentence += ' ' + idx2word[output_idx[0]]\n",
    "\n",
    "print(test_sentence)        "
   ]
  }
 ],
 "metadata": {
  "kernelspec": {
   "display_name": "Python 3",
   "language": "python",
   "name": "python3"
  },
  "language_info": {
   "codemirror_mode": {
    "name": "ipython",
    "version": 3
   },
   "file_extension": ".py",
   "mimetype": "text/x-python",
   "name": "python",
   "nbconvert_exporter": "python",
   "pygments_lexer": "ipython3",
   "version": "3.7.9"
  }
 },
 "nbformat": 4,
 "nbformat_minor": 4
}
