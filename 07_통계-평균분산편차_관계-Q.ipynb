{
 "cells": [
  {
   "cell_type": "code",
   "execution_count": 3,
   "metadata": {},
   "outputs": [],
   "source": [
    "import math\n",
    "import random\n",
    "import platform\n",
    "import re\n",
    "import numpy as np\n",
    "import matplotlib.pyplot as plt\n",
    "from matplotlib import font_manager, rc\n",
    "\n",
    "# 한글 폰트 들여오는 library\n",
    "\"\"\"\n",
    "시스템에 따라 기본 한글 폰트를 읽어 들인다.\n",
    "\"\"\"\n",
    "pattern = re.compile(\"Linux|Ubuntu\")\n",
    "    \n",
    "# 폰트를 적재한다.\n",
    "if platform.system() == 'Darwin':\n",
    "    rc('font', family='AppleGothic')\n",
    "elif platform.system() == 'Windows':\n",
    "    path = \"c:/Windows/Fonts/malgun.ttf\"\n",
    "    font_name = font_manager.FontProperties(fname=path).get_name()\n",
    "    rc('font', family=font_name)\n",
    "elif pattern.search(platform.platform()):\n",
    "#elif 'Ubuntu' in platform.platform() or 'Linux' in platform.platform():\n",
    "    path = \"/usr/share/fonts/truetype/nanum/NanumGothic.ttf\"\n",
    "    font_name = font_manager.FontProperties(fname=path).get_name()\n",
    "    rc('font', family=font_name)\n",
    "elif 'SuSE' in platform.platform():\n",
    "    path = \"/usr/share/fonts/truetype/NanumGothic.ttf\"\n",
    "    font_name = font_manager.FontProperties(fname=path).get_name()\n",
    "    rc('font', family=font_name)\n",
    "else:\n",
    "    print('Unknown system... sorry~~~~') \n",
    "\n",
    "%matplotlib inline"
   ]
  },
  {
   "cell_type": "markdown",
   "metadata": {},
   "source": [
    "파이썬: 다시 배우는 핵심 고등 수학\n",
    "\n",
    "# 7.1 통계란?\n",
    "\n",
    "수학 시험 평균이 70점이다. 내가 75점이라면 상위권?"
   ]
  },
  {
   "cell_type": "markdown",
   "metadata": {},
   "source": [
    "## 7.1.1 모집단과 표본\n",
    "\n",
    "20대 한국인 남성의 평균 신장을 구하려면 어떻게 해야 하나? 2018/12월 20대 한국인 남성 인구는 359만명 - 모든 사람의 키를 조사하기는 불가능하다.\n",
    "\n",
    "그래서 일반적으로 이중 일부만을 선택해서 키를 재고 그 값을 토대로 구한 평균 값을 20대 한국인 남성의 평균 신장으로 사용한다."
   ]
  },
  {
   "cell_type": "markdown",
   "metadata": {},
   "source": [
    "통계학에서 조사하려고 하는 집단 전체를 **모집단** 이라고 부른다. 집단이 너무 커서 전체를 조사할 수 없을 때 그 중에서 일부를 무작위로 선택해서 이것을 가지고 모집단을 추측한다. 이렇게 무작위로 선택한 집단을 **표본**이라 한다. 표본에서 모집단을 추측하는 작업을 연구하는 영역을 **추측 통계학**이라고 한다. 그러나 큰 집단을 사용해서 뭔가를 조사할 때 모집단과 표본의 차이를 충분히 이해해야 한다."
   ]
  },
  {
   "cell_type": "markdown",
   "metadata": {},
   "source": [
    "## 7.1.2 데이터가 흩어진 정도 살펴보기\n",
    "\n",
    "**도수분포표**, **히스토그램** 은 막대그래프로 데이터가 흩어진 상태를 볼 수 있다.\n",
    " - *분포*란 데이터가 흩어진 상태를 의미한다.\n"
   ]
  },
  {
   "cell_type": "code",
   "execution_count": 16,
   "metadata": {},
   "outputs": [
    {
     "name": "stdout",
     "output_type": "stream",
     "text": [
      "5.142599973920619\n"
     ]
    },
    {
     "data": {
      "image/png": "[encoded data removed]",
      "text/plain": [
       "<Figure size 432x288 with 1 Axes>"
      ]
     },
     "metadata": {
      "needs_background": "light"
     },
     "output_type": "display_data"
    }
   ],
   "source": [
    "# np.random.normal()로 가우스 분포를 가지는 데이터 생성\n",
    "#  - 중간값 5, 크기 3, 개수 1000\n",
    "data = np.random.normal(5, 3, 1000)\n",
    "print(data.mean())\n",
    "\n",
    "\n",
    "# Histogram은 hist()\n",
    "# data의 시계열 데이터를 히스토그람으로 그리면 5을 중심으로하는 가우스분포 표현.\n",
    "plt.figure()\n",
    "plt.hist(data)\n",
    "plt.show()"
   ]
  },
  {
   "cell_type": "markdown",
   "metadata": {},
   "source": [
    "**분포곡선**은 데이터가 흩어진 모습을 곡선으로 함께 나타낸 것이다.\n",
    "\n",
    "<img src='images/distribution_curve.JPG' width='500'>"
   ]
  },
  {
   "cell_type": "markdown",
   "metadata": {},
   "source": [
    "그림 같이 좌우대칭인 분포를 **정규분포**라고 한다. 정규분포에는 연령별 키, 몸무게, 벚꽃이 피는 날짜, 장마가 시작한 날짜, 공장에서 생산되는 삼각김밥 등 공산품의 길이나 무게 등등이 많이 있다.\n",
    "\n",
    "위 2같은 일정한 분포를 **균등분포** - 주사위를 몇 백번 던졌을 때 숫자가 나오는 패턴은 이 균등분포가 있다.\n",
    "\n",
    "3,4,5 같이 한쪽으로 치우치는 모습은 주의해야 한다."
   ]
  },
  {
   "cell_type": "markdown",
   "metadata": {},
   "source": [
    "## 7.1.3 평균값, 중앙값, 최빈값\n",
    "\n",
    "어떤 집단의 경향을 볼 때 **대표값** 을 보는데 평균/중앙/최빈값을 자주 본다. 집단의 모양에 따라 대표값도 다르게 나타난다.\n",
    "\n",
    "### 중심경향성\n",
    "\n",
    "데이터의 중심이 어디인지를 나타내는 중심 경향성 (Central tendency) 지표는 매우 중요하다. \n",
    "\n",
    "대부분 데이터 값을 데이터 위치의 개수로 나눈 평균을 사용할 수 있다. 평균을 통해서 각 지표가 전체 지표중에서 어느 위치인지를 파악하기 좋다.\n",
    "- 평균값\n",
    "- 중앙값\n",
    "- 최빈값\n"
   ]
  },
  {
   "cell_type": "markdown",
   "metadata": {},
   "source": [
    "<img src='images/representative_graphs.png' width='500'>\n",
    "\n",
    "http://m.blog.daum.net/kjk1991/1650059?np_nil_b=-1"
   ]
  },
  {
   "cell_type": "markdown",
   "metadata": {},
   "source": [
    "### 평균값\n",
    "\n",
    "모든 데이터를 더해서 데이터의 개수르 나눈 값이 **평균값**이다.\n",
    "\n",
    "데이터는 데이터의 개수, 값 출현 횟수로 규모를 파악할 수 있다. 아래는 어떤 곳의 년도별 기부금 데이터다"
   ]
  },
  {
   "cell_type": "code",
   "execution_count": 18,
   "metadata": {},
   "outputs": [],
   "source": [
    "donations = [100, 60, 70, 900, 100, 200, 500, 500, 503, 600, 1000, 1200]"
   ]
  },
  {
   "cell_type": "code",
   "execution_count": 19,
   "metadata": {},
   "outputs": [
    {
     "data": {
      "text/plain": [
       "477.75"
      ]
     },
     "execution_count": 19,
     "metadata": {},
     "output_type": "execute_result"
    }
   ],
   "source": [
    "sum_donations = 0\n",
    "for i in donations:\n",
    "    sum_donations += i\n",
    "sum_donations / len(donations)"
   ]
  },
  {
   "cell_type": "code",
   "execution_count": 20,
   "metadata": {},
   "outputs": [
    {
     "data": {
      "text/plain": [
       "477.75"
      ]
     },
     "execution_count": 20,
     "metadata": {},
     "output_type": "execute_result"
    }
   ],
   "source": [
    "# numpy.mean 이용\n",
    "np.mean(donations)"
   ]
  },
  {
   "cell_type": "markdown",
   "metadata": {},
   "source": [
    "### 중앙값 median\n",
    "\n",
    "중앙값(중위수, Median)은 정렬된 데이터에서 가장 가운데 위치한 값을 말한다. 데이터 개수가 홀수라면 가장 가운데 위치 값을 사용한다. 데이터 개수가 일 때 짝수라면 가장 중앙에 있는 두 데이터의 평균을 의미한다.\n",
    "\n",
    "\n",
    "\n",
    "$$\n",
    "\\frac{N+1}{2} \\longleftarrow 홀수 \\\\\n",
    "\\frac{\\frac{N}{2}+(\\frac{N}{2}+1)}{2} \\longleftarrow 짝수\n",
    "$$\n",
    "\n",
    "집단의 모양이 정규분포나 균등분포일 때 평균값과 중앙값은 거의 같은 값이다.\n"
   ]
  },
  {
   "cell_type": "code",
   "execution_count": 21,
   "metadata": {},
   "outputs": [],
   "source": [
    "def calc_median(numbers):\n",
    "    \"\"\"\n",
    "    find the middle-most value of list\n",
    "    \"\"\"\n",
    "    n = len(numbers)\n",
    "    \n",
    "    sorted_number = sorted(numbers)\n",
    "    midpoint = n // 2\n",
    "    if n % 2 == 1: # odd\n",
    "        return sorted_number[midpoint]\n",
    "    else:\n",
    "        lo = midpoint - 1\n",
    "        hi = midpoint\n",
    "        return (sorted_number[lo] + sorted_number[hi]) / 2"
   ]
  },
  {
   "cell_type": "code",
   "execution_count": 22,
   "metadata": {},
   "outputs": [
    {
     "data": {
      "text/plain": [
       "500.0"
      ]
     },
     "execution_count": 22,
     "metadata": {},
     "output_type": "execute_result"
    }
   ],
   "source": [
    "calc_median(donations)"
   ]
  },
  {
   "cell_type": "code",
   "execution_count": 23,
   "metadata": {},
   "outputs": [
    {
     "data": {
      "text/plain": [
       "500.0"
      ]
     },
     "execution_count": 23,
     "metadata": {},
     "output_type": "execute_result"
    }
   ],
   "source": [
    "# np.median 이용\n",
    "np.median(donations)"
   ]
  },
  {
   "cell_type": "markdown",
   "metadata": {},
   "source": [
    "### 최빈값 mode\n",
    "\n",
    "최빈값(mode)은 데이터에서 가장 빈번하게 출현하는 값이다. 그래서 공산품 같은 경우 최빈값을 이용해야 더 많은 사람들에 맞는 제품을 만들 수 있다.\n"
   ]
  },
  {
   "cell_type": "markdown",
   "metadata": {},
   "source": [
    "예를 들어 한 반에 학생 20명의 수학시험 점수 - 만점 10이 있다. 여기서 빈번히 발생하는 점수는?"
   ]
  },
  {
   "cell_type": "code",
   "execution_count": 24,
   "metadata": {},
   "outputs": [
    {
     "data": {
      "text/plain": [
       "(10, 1)"
      ]
     },
     "execution_count": 24,
     "metadata": {},
     "output_type": "execute_result"
    }
   ],
   "source": [
    "scores = [7, 8, 9, 2, 10, 9, 9, 9, 9, 4, 5, 6, 1, 5, 6, 7, 8, 6, 1, 10]\n",
    "max(scores), min(scores)"
   ]
  },
  {
   "cell_type": "markdown",
   "metadata": {},
   "source": [
    "#### `np.bincount()` 메서드\n",
    "\n",
    "np.bincount()로 발생하는 숫자의 빗도수를 얻어 최빈값을 파악할 수 있다. "
   ]
  },
  {
   "cell_type": "code",
   "execution_count": 27,
   "metadata": {},
   "outputs": [
    {
     "data": {
      "text/plain": [
       "array([0, 2, 1, 0, 1, 2, 3, 2, 2, 5, 2], dtype=int64)"
      ]
     },
     "execution_count": 27,
     "metadata": {},
     "output_type": "execute_result"
    }
   ],
   "source": [
    "# np.bincount 이용\n",
    "\n",
    "np.bincount(scores)"
   ]
  },
  {
   "cell_type": "markdown",
   "metadata": {},
   "source": [
    "#### `numpy.argmax()`\n",
    "\n",
    "평균값, 중앙값, 최빈값"
   ]
  },
  {
   "cell_type": "code",
   "execution_count": 29,
   "metadata": {},
   "outputs": [
    {
     "name": "stdout",
     "output_type": "stream",
     "text": [
      "6.55 7.0 9\n"
     ]
    }
   ],
   "source": [
    "# 평균 np.mean())\n",
    "a = np.mean(scores)\n",
    "# 중앙 np.median())\n",
    "b = np.median(scores)\n",
    "# 최빈값은 np.argmax( numpy.bincount() )\n",
    "c = np.argmax(np.bincount(scores))\n",
    "print(a, b, c)"
   ]
  },
  {
   "cell_type": "markdown",
   "metadata": {},
   "source": [
    "---\n",
    "\n",
    "# 7.2 데이터가 흩어진 정도 조사하기\n",
    "\n",
    "NBA 공인구는 72인치(182.88cm) 높이에서 낙하했을 때 52-56인치(132.08~142.24cm) 높이로 튀어 올라야 한다고 한다. 경기장 바닥, 온도, 습도, 바람 등 여러 요인으로 튕겨 올라오는 높이가 일정하지 않다. 동일한 농구공도 시행할 때 조금씩 차이가 있다. 이를 편차라고 한다.\n"
   ]
  },
  {
   "cell_type": "markdown",
   "metadata": {},
   "source": [
    "## 7.2.1 분산과 표준편차\n",
    "\n",
    "앞에 공인구 예를 살펴보았듯 평균에서 개별 숫자가 어떻게 위치 하는지 개별 값에 대한 산포도를 알아야 할 필요가 있다 - 집단의 모양을 파악하기 위해서 사용하는 방법이 분산과 표준편차이다.\n",
    "\n",
    "**분산 Veriance**는 개별 요소들이 평균과 얼마나 떨어저 있는지 알 수 있다. **편차 Deviation**은 개별 값과 평균의 차이이다."
   ]
  },
  {
   "cell_type": "markdown",
   "metadata": {},
   "source": [
    "아래는 A, B 두 데이터가 있다. \n",
    "\n",
    "```\n",
    "A | 94  | 105 | 107 | 106 | 88\n",
    "B | 117 | 84  | 95  | 72  | 132\n",
    "```\n"
   ]
  },
  {
   "cell_type": "code",
   "execution_count": 42,
   "metadata": {},
   "outputs": [
    {
     "name": "stdout",
     "output_type": "stream",
     "text": [
      "A 평균 100.0 \t B 평균 100.0\n"
     ]
    }
   ],
   "source": [
    "scoreA = [94,105,107,106,88]\n",
    "scoreB = [117,84,95,72,132]\n",
    "\n",
    "print('A 평균 {0} \\t B 평균 {1}'.format(np.mean(scoreA), np.mean(scoreB)))"
   ]
  },
  {
   "cell_type": "markdown",
   "metadata": {},
   "source": [
    "이 데이터를 평균이 100인 데이터를 기준으로 살펴보면 B가 평균에서 멀어지는 정도가 큰 것을 알 수 있다."
   ]
  },
  {
   "cell_type": "code",
   "execution_count": 31,
   "metadata": {},
   "outputs": [
    {
     "data": {
      "image/png": "[encoded data removed]",
      "text/plain": [
       "<Figure size 432x288 with 1 Axes>"
      ]
     },
     "metadata": {
      "needs_background": "light"
     },
     "output_type": "display_data"
    }
   ],
   "source": [
    "x = range(0,5)\n",
    "\n",
    "plt.plot(x,[100]*5, color='blue') # 평균선\n",
    "plt.plot(x, scoreA, color='green', linestyle='dashed', \n",
    "         marker='o', markerfacecolor='blue', markersize=12)\n",
    "plt.plot(x,scoreB, color='black', linestyle='dashed', \n",
    "         marker='o', markerfacecolor='red', markersize=12)\n",
    "\n",
    "plt.show()"
   ]
  },
  {
   "cell_type": "code",
   "execution_count": 13,
   "metadata": {},
   "outputs": [
    {
     "data": {
      "text/plain": [
       "500"
      ]
     },
     "execution_count": 13,
     "metadata": {},
     "output_type": "execute_result"
    }
   ],
   "source": [
    "sum(scoreA)"
   ]
  },
  {
   "cell_type": "markdown",
   "metadata": {},
   "source": [
    "#### 분산의 의미 이해해 보기\n",
    "\n",
    "이렇게 멀어진 정도를 모두 더해보면 전체적인 정도를 알아 볼 수 있을 것이다. 그러나 평균과의 차를 모두 더하면 0이 된다."
   ]
  },
  {
   "cell_type": "code",
   "execution_count": 37,
   "metadata": {},
   "outputs": [
    {
     "name": "stdout",
     "output_type": "stream",
     "text": [
      "A와 평균사이 차이의 합 : 0.0\n"
     ]
    }
   ],
   "source": [
    "# A 평균과 차 합 \n",
    "mean = np.mean(scoreA)\n",
    "sumA = 0\n",
    "for i in scoreA:\n",
    "    sumA = sumA + (i - mean)\n",
    "print(f'A와 평균사이 차이의 합 : {sumA}')"
   ]
  },
  {
   "cell_type": "markdown",
   "metadata": {},
   "source": [
    "이번에는 데이터 평균에 제곱해서 합계를 계산해 보면,"
   ]
  },
  {
   "cell_type": "code",
   "execution_count": 47,
   "metadata": {},
   "outputs": [
    {
     "name": "stdout",
     "output_type": "stream",
     "text": [
      "A와 평균사이 차이의 제곱 합 : 290.0, \t 분산 : 58.0\n"
     ]
    }
   ],
   "source": [
    "# A 평균과 차 제곱의 합, 분산\n",
    "meanA = np.mean(scoreA)\n",
    "sumA = 0\n",
    "for i in scoreA:\n",
    "    sumA = sumA + (i - meanA)**2\n",
    "\n",
    "print(f'A와 평균사이 차이의 제곱 합 : {sumA}, \\t 분산 : {sumA/len(scoreA)}')\n",
    "\n"
   ]
  },
  {
   "cell_type": "code",
   "execution_count": 44,
   "metadata": {},
   "outputs": [
    {
     "name": "stdout",
     "output_type": "stream",
     "text": [
      "B와 평균사이 차이의 제곱 합 : 2378.0, \t 분산 : 475.6\n"
     ]
    }
   ],
   "source": [
    "# B 평균과 차 제곱의 합, 분산\n",
    "meanB = np.mean(scoreB)\n",
    "sumB = 0\n",
    "for i in scoreB:\n",
    "    sumB = sumB + (i - meanA)**2\n",
    "\n",
    "print(f'B와 평균사이 차이의 제곱 합 : {sumB}, \\t 분산 : {sumB/len(scoreB)}')\n"
   ]
  },
  {
   "cell_type": "markdown",
   "metadata": {},
   "source": [
    "분산은 평균 차의 제곱을 데이터 개수로 나누어 사용한다."
   ]
  },
  {
   "cell_type": "markdown",
   "metadata": {},
   "source": [
    "### 분산 Variance\n",
    "\n",
    "이 값은 데이터 개수가 늘어나면 커지는데 데이터 개수에 영향을 받지 않도록 데이터 개수로 나누면 그 값이 **분산**이다.  분산은 차이의 제곱을 평균한 값이다. 분산 값이 높다는 것은 평균에서 멀리 떨어져 있다는 것이다. 낮은 분산 값은 평균에 가깝게 뭉쳐 있다는 것을 의미한다. 분산은 다음 공식을 이용해 계산한다.\n",
    "\n",
    "$$ Variance = \\frac{\\sum (x_i - x_{mean})^2 }{n}\n",
    "$$\n",
    "\n",
    "각 항목과 평균의 차이를 합해서 제곱하고 항목 수로 나누면 분산이 된다."
   ]
  },
  {
   "cell_type": "markdown",
   "metadata": {},
   "source": [
    "### 편차 Deviation\n",
    "\n",
    "여기서 데이터 평균을 제곱한 값을 사용했는데 본래 값으로 돌리기 위해 루트로 계산한 값이 **표준편차**이다. 표준편차는 분산의 제곱근을 구하면 된다. \n",
    "\n",
    "$$\n",
    "Deviation = \\sqrt{Variance}\n",
    "$$\n",
    "\n",
    "값이 평균의 표준편차 내에 있는 값은 일반적이지만 평균으로 부터 3개 이상의 표준편차의 값은 비정상 혹은 이상치Outlier 라고 한다.\n"
   ]
  },
  {
   "cell_type": "code",
   "execution_count": 46,
   "metadata": {},
   "outputs": [
    {
     "name": "stdout",
     "output_type": "stream",
     "text": [
      "A: 분산 58.0 표준편차 7.615773105863909\n",
      "B: 분산 475.6 표준편차 21.808255317654368\n"
     ]
    }
   ],
   "source": [
    "# math.sqrt 이용해 A,B의 분산, 표준편차\n",
    "varianceA = sumA/len(scoreA)\n",
    "varianceB = sumB/len(scoreB)\n",
    "\n",
    "stdevA = math.sqrt(varianceA)\n",
    "stdevB = math.sqrt(varianceB)\n",
    "\n",
    "\n",
    "print('A: 분산 {0} 표준편차 {1}'.format( varianceA, stdevA))\n",
    "print('B: 분산 {0} 표준편차 {1}'.format( varianceB, stdevB))"
   ]
  },
  {
   "cell_type": "markdown",
   "metadata": {},
   "source": []
  },
  {
   "cell_type": "markdown",
   "metadata": {},
   "source": [
    "### 분산과 표준편차\n",
    "\n",
    "분산과 편차는 데이터가 흩어진 정도이다. 이 두 가지 값이 클수록 집단의 데이터가 흩어져 있음을 나타낸다. 특히 편차는 평균에서 *멀어진 정도*라고 이해하면 된다.\n",
    "\n",
    "그런데 산포도에서 편차를 표준편차로 사용한다. 표준편차를 쓰는 이유는, **데이터의 단위에 관계없이 중심경향성은 같은 단위를 가져야** 한다. 산포도 범위range 또한 같은 단위이다. 하지만 분산의 단위는 제곱이다. 그렇기 때문에 분산 대신 원래 단위와 같은 단위를 가지는 표준편차 Standard Deviation을 이용할 때가 많다.\n",
    "\n",
    "\n",
    "그런데 비교하려는 집단이 하나는 성적, 다른 하나는 날씨 온도면 데이터 기준의 단위가 달라진다. 분산/편차를 이용해도 의미있는 관계를 파악하기 어렵다.\n",
    "\n",
    "> 예를 들어 달러로 모은 기부금들의 분산은 제곱 달러로 표시해야 하는데 표준편차는 달러를 그대로 사용할 수 있는 것이다.\n"
   ]
  },
  {
   "cell_type": "markdown",
   "metadata": {},
   "source": [
    "위 결과를 도수분포표로 "
   ]
  },
  {
   "cell_type": "code",
   "execution_count": 10,
   "metadata": {},
   "outputs": [
    {
     "data": {
      "image/png": "[encoded data removed]",
      "text/plain": [
       "<Figure size 432x288 with 1 Axes>"
      ]
     },
     "metadata": {
      "needs_background": "light"
     },
     "output_type": "display_data"
    }
   ],
   "source": [
    "plt.title('A,B 빈도')\n",
    "plt.xlabel('점수')\n",
    "plt.ylabel('크기')\n",
    "plt.hist(scoreA, bins=range(0, 200, 10), alpha=0.5, label='A')\n",
    "plt.hist(scoreB, bins=range(0, 200, 10), alpha=0.5, label='B')\n",
    "plt.show()"
   ]
  },
  {
   "cell_type": "markdown",
   "metadata": {},
   "source": [
    "#### numpy.var(), numpy.std()\n",
    "\n",
    "numpy 이용해 분산, 표준편차 구해보자."
   ]
  },
  {
   "cell_type": "code",
   "execution_count": 51,
   "metadata": {},
   "outputs": [
    {
     "name": "stdout",
     "output_type": "stream",
     "text": [
      "---- A ----\n",
      "평균: 100.0, \n",
      "분산: 58.0, \n",
      "표준편차: 7.615773105863909\n",
      "---- B ----\n",
      "평균: 100.0, \n",
      "분산: 475.6, \n",
      "표준편차: 21.808255317654368\n"
     ]
    }
   ],
   "source": [
    "print('---- A ----')\n",
    "print(f'평균: {np.mean(scoreA)}, \\n분산: {np.var(scoreA)}, \\n표준편차: {np.std(scoreA)}')\n",
    "\n",
    "print('---- B ----')\n",
    "print(f'평균: {np.mean(scoreB)}, \\n분산: {np.var(scoreB)}, \\n표준편차: {np.std(scoreB)}')"
   ]
  },
  {
   "cell_type": "markdown",
   "metadata": {},
   "source": [
    "## 7.2.2 표준점수\n",
    "\n",
    "어떤 시험에서 다섯 과목의 합계가 320점이고, 다음 시험에서 430점이 나왔다. 성적이 올랐다고 할 수 있지만 이것은 진실이 아닐 수 있다. 시험에 응시한 인원, 수준, 난이도가 다를 것이기 때문이다. 이럴때 판단 기준으로 사용하는 것이 **표준점수**이다.\n",
    "\n",
    "표준점수가 유효하려면 데이터의 자료가 되는 집단의 모양이 **정규분포**를 이룬다는 것이 전제되야 한다.분포가 치우치면 평균 값을 봐도 의미가 없는 것 처럼 표준점수만 보고 판단할 수 없다."
   ]
  },
  {
   "cell_type": "markdown",
   "metadata": {},
   "source": [
    "정규분포는 다양한 형태가 있다. 아래 그림 처럼 \n",
    " - 표준편차가 같고 평균값이 다른 겻우 산이 나타나는 위치가 다르다 - 왼쪽.\n",
    " - 평균이 같지마 표준편차가 다른 경우에 산의 높이가 달라진다 - 오른쪽. \n",
    "\n",
    "<img src='images/stdvariance_graph.png' width='450'>"
   ]
  },
  {
   "cell_type": "markdown",
   "metadata": {},
   "source": [
    "데이터 집단에 데이터의 단위에 관계없이 중심경향성은 같은 단위를 가져야 하므르 표준화를 해야 한다. 표준화는 평균 값이 0이 되고 분산이 1이 되도록 데이터를 변환하는 작업이다. \n",
    "\n",
    "$$\n",
    "표준화후의\\ 데이터 = \\frac{(데이터-평균)}{표준편차}\n",
    "$$\n",
    "\n",
    "표준화한 데이터로 도수분포표를 그리면 아래 같이 종모양의 그래프가 나온다. 가로축에 $\\sigma$는 표준편차를 표시하며, $1\\sigma$는 표준편차 한 개를 의미한다. 평균에서 +-표준편차 1개는 68.3%가 포함된다는 의미.\n",
    "\n",
    "<img src='images/normal_distribution_graph.jpg' width='350'>"
   ]
  },
  {
   "cell_type": "markdown",
   "metadata": {},
   "source": [
    "이렇게 표준화한 후 산의 중심에서 얼마나 멀리 있는지 보면 그것이 어떤 값인지 판단할 수 있다.\n",
    "\n",
    "예의 시험점수는 평규니 0이되여 현실감이 없는데 표준화한 후 데이터는 0.18, -1.45 같은 값이 나오는데 이것이 점수라 하기 어렵다 그래서 고안한 것이 **표준점수**이다.\n",
    "\n",
    "$$\n",
    "표준점수 = \\frac{점수 - 평균}{표준편차}\\times 10 + 50\n",
    "$$\n",
    "\n",
    "이렇게 하면 시험 난이도에 상관 없이 평균을 받은 사람은 50이 된다. 표준화한 점수를 10배 해서 50을 더했으므로 도수분포표 모양도 정규분포 모양이다. 물론 중심에 멀리 떨어진 값이 나올 수 있다. 어쨌든 시험 점수의 표준점수가 산의 중심에서 얼마나 떨어져 있는지 보면 성적이 어느 정도인지 판단할 수 있다.\n"
   ]
  },
  {
   "cell_type": "code",
   "execution_count": 35,
   "metadata": {},
   "outputs": [],
   "source": [
    "def calc_stdscore(v,m,stdev):\n",
    "    \"\"\"점수,평균,표준편차로 주어진 값의 표준점수를 계산한다\n",
    "    calc_stdscore(variance, mean, stddev)\n",
    "    \"\"\"\n",
    "    return (v-m)/stdev * 10 + 50"
   ]
  },
  {
   "cell_type": "code",
   "execution_count": 34,
   "metadata": {},
   "outputs": [
    {
     "data": {
      "text/plain": [
       "(57.0, 57.0)"
      ]
     },
     "execution_count": 34,
     "metadata": {},
     "output_type": "execute_result"
    }
   ],
   "source": [
    "v1,e1,d1 = 320, 278, 60\n",
    "v2,e2,d2 = 430,388,60\n",
    "\n",
    "calc_stdscore(v1,e1,d1),calc_stdscore(v2,e2,d2)"
   ]
  },
  {
   "cell_type": "markdown",
   "metadata": {},
   "source": [
    "위 결과로 시험1과 시험2에서 수준이 변하지 않은 것을 알 수 있다."
   ]
  },
  {
   "cell_type": "markdown",
   "metadata": {},
   "source": [
    "---\n",
    "\n",
    "# 7.3 관계조사하기\n",
    "\n",
    "예를 들어 \"사용자가 사이트에서 보낸 시간과 사용자의 친구 수 사이의 연관성\"이 있다는 가설을 검증하려고 한다. 이런 두 데이터 세트 사이의 관계를 상관관계로 분석한다. 상관관계를 분석하는데\n",
    "\n",
    "- 산포도\n",
    "- 상관계수\n"
   ]
  },
  {
   "cell_type": "markdown",
   "metadata": {},
   "source": [
    "## 7.3.1 산포도\n",
    "\n",
    "\n",
    "\n",
    "데이터 속성 사이의 관계를 파악하는데 **산포도(산점도)**로 양.음의 관계를 파악한다.\n",
    "\n",
    "2변량 (혹은 이상)의 데이터의 경향을 파악하는데 산점도(산포도) 그래프가 제격이다. 다음 같은 어느 학생들의 수학, 물리 점수이다.\n",
    "\n",
    "| 번호 | 1 | 2 | 3 | 4 | 5 | 6 |\n",
    "| ---- | --- | --- | --- | --- | --- | --- |\n",
    "| 수학 | 50 | 60 | 40 | 30 | 70 | 50 |\n",
    "| 물리 | 40 | 60 | 40 | 20 | 80 | 50 |\n",
    "\n",
    "\n",
    "수학 점수를 가로축, 물리 점수를 세로축인 좌표로 생각해 보면, 1번 학생은 (50, 40) 좌표라 할 수 있다."
   ]
  },
  {
   "cell_type": "code",
   "execution_count": 52,
   "metadata": {},
   "outputs": [
    {
     "data": {
      "image/png": "[encoded data removed]",
      "text/plain": [
       "<Figure size 288x288 with 1 Axes>"
      ]
     },
     "metadata": {
      "needs_background": "light"
     },
     "output_type": "display_data"
    }
   ],
   "source": [
    "score_math = [50, 60, 40, 30, 70, 50]\n",
    "score_pysic = [40, 60, 40, 20, 80, 50]\n",
    "plt.figure(figsize=(4,4))\n",
    "plt.scatter(score_math, score_pysic,s=100, marker='.')\n",
    "plt.axis('equal')\n",
    "\n",
    "plt.show()"
   ]
  },
  {
   "cell_type": "markdown",
   "metadata": {},
   "source": [
    "각 점들은 수학점수가 높을 수록 물리 점수도 높아지는 것을 파악할 수 있다. 또한 산포도 각 점은 우상향의 띄를 보여주는데 이것은 양의 기울기를 갖는 1차함수 그래프를 닮았다. 이럴때 통계에서는 두 속성 사이에 강한 양의 상관관계가 있다고 한다.\n",
    "\n",
    "2변량 데이터의 산포도로 두 변량(속성) 사이의 **상관관계 유무의 강.약**을 알 수 있다. "
   ]
  },
  {
   "cell_type": "markdown",
   "metadata": {},
   "source": [
    "## 7.3.2 공분산과 상관관계\n",
    "\n",
    "두 데이터의 관계성을 나타내는 것이 **공분산**과 **상관관계**이다.\n",
    "\n",
    "두 데이터 x,y의 관계성은 x의 편차 X y의 편차를 했을 때 그 답이 양수가 되는 것은 모두가 평균 값보다 클 때와 작을 때를 나타낸다.  이런 관계를 산점도로 보면\n",
    "\n",
    "<img src='http://cfs11.blog.daum.net/image/21/blog/2008/03/30/08/15/47eecd81aaf6d&filename=산점도_그림.jpg' width='650'>"
   ]
  },
  {
   "cell_type": "markdown",
   "metadata": {},
   "source": [
    "#### 상관관계 대해 주의할 점.\n",
    "\n",
    "2가지 주의 점이 있다.\n",
    "\n",
    "1. 강.약 상관관계 결과만으로 **일반적** 관계로 단정할 수 없다.\n",
    "1. 두 속성 사이 상관관계가 파악되도 양자 사이의 인과관계는 단정할 수 없다.\n",
    "\n",
    "즉, 상관관계가 인과관계가 아니라는 것이다 - 산포도로 관계는 파악되어도 **강.약 파악하기 어렵다**는 것이다.\n"
   ]
  },
  {
   "cell_type": "markdown",
   "metadata": {},
   "source": [
    "### 공분산 Common Devariance\n",
    "\n",
    "분산이 한 변수가 평균에서 얼마나 떨어져 있는지를 살펴보고, **공분산*은 *두 변수가 각각의 평균에서 얼마나 떨어져 있나* 를 살펴본다.\n",
    "\n",
    "$$\n",
    "공분산 = \\frac{(x-x평균)\\times(y-y평균)의\\ 합계}{데이터의\\ 개수}\n",
    "$$\n",
    "\n",
    "그래서 공분산이 *양수* 이면 x값이 클수록 y 값이 크고, x 값이 작을 수록 y 값도 작다. 반대로 *음수*이면 x값이 클수록 y값이 작고, x값이 작을 수록 y값이 크다는 의이미다. 공분산이 0이면 그와 같은 관계가 성립하지 않는다는 의미이다.\n",
    "\n",
    "그러나 공분산은 두 데이터 관계의 지표는 되지만 단위가 정해지지 않는 단점이 있다. 시험 점수 같이 같은 단위의 비교는 괜잖지만, 스마트폰 사용 시간과 시험 점수를 비교하는 것은 어떻게 판단해야 할 지 알 수 없게 된다.\n",
    "\n",
    "이런 경우 표준화 작업을 하게 된다. 공분산은 상관계수 식을 이용해 표준화 할 수 있다."
   ]
  },
  {
   "cell_type": "markdown",
   "metadata": {},
   "source": [
    "### 상관계수\n",
    "\n",
    "$$\n",
    "상관계수 = \\frac{공분산}{(x표준편차)\\times(y표준편차)}\n",
    "$$\n",
    "\n",
    "\n",
    "상관계수 Correlation 공식다음 같다. 같은 크기의 숫자 집합 x, y라고 하고 n은 숫자 집합 값의 개수이다.\n",
    "\n",
    "$$\n",
    "Correlation = \\frac{n\\sum xy - \\sum x \\sum y}{\\sqrt{(n\\sum x^2 - (\\sum x)^2)(n\\sum y^2 - (\\sum y)^2)}}\n",
    "$$\n",
    " \n",
    "상관계수는 반드시 -1~1 범위이다.\n",
    "\n",
    "\n",
    "상관계수는 *-1.0~1.0* 사이의 값을 갖으며, 0에 가까울 수 록 관계가 없음을 1에 가까울 수록 강한 양의 관계를 표현한다.\n",
    "\n",
    "\n",
    " - 상관계수가 0이면 두 집단간 선형 관계가 없다는 의미이다. \n",
    "     (그렇다고 서로 독립적이라는 의미는 아니다 - 둘 사이 비선형 관계가 있을 수 있다.), \n",
    " - 1이거나 1에 가까우면 강한 양의 선형 관계가 있음을 의미하고, \n",
    " - 1이면 완전한 양의 상관관계이다.\n",
    " - -1이거나 -1에 가까우면 강한 음의 관계가 있고\n",
    " - -1은 완전한 음의 상관관계이다."
   ]
  },
  {
   "cell_type": "markdown",
   "metadata": {},
   "source": [
    "#### NumPy에서 상관계수 계산\n",
    "\n",
    "피어슨 상관관계 계산은 [numpy.corrcoef()](https://docs.scipy.org/doc/numpy/reference/generated/numpy.corrcoef.html)에 두 변수 집합을 전달해 파악할 수 있다. \n",
    "\n",
    "```python\n",
    ">>> import numpy as np\n",
    ">>> np.corrcoef(LIST1, LIST2)[0,1]\n",
    "0.02456\n",
    "```\n",
    "\n",
    "[NumPy.corrcoef()](http://t.thinkbee.kr/mybook/notebooks/Data_Science/Math_with_Python/SciPy-examples.ipynb#corrcoef()) 예제를 참조한다.\n",
    "\n",
    "위 수학,물리 점수를 계산해 보면,"
   ]
  },
  {
   "cell_type": "code",
   "execution_count": 53,
   "metadata": {},
   "outputs": [
    {
     "data": {
      "text/plain": [
       "array([[1.        , 0.96994845],\n",
       "       [0.96994845, 1.        ]])"
      ]
     },
     "execution_count": 53,
     "metadata": {},
     "output_type": "execute_result"
    }
   ],
   "source": [
    "# np.corrcoef()\n",
    "cor_math = np.corrcoef(score_math, score_pysic)\n",
    "cor_math"
   ]
  },
  {
   "cell_type": "markdown",
   "metadata": {},
   "source": [
    "##### ex) 학교 시험 성적과 수능 성적 데이터다."
   ]
  },
  {
   "cell_type": "code",
   "execution_count": 56,
   "metadata": {},
   "outputs": [],
   "source": [
    "x = [90, 92, 95, 96, 87, 87, 90, 95, 98, 96] #고등학교 성적\n",
    "y = [85, 87, 86, 97, 96, 88, 89, 98, 98, 87] # 수능 성적"
   ]
  },
  {
   "cell_type": "code",
   "execution_count": 57,
   "metadata": {},
   "outputs": [
    {
     "data": {
      "image/png": "[encoded data removed]",
      "text/plain": [
       "<Figure size 432x288 with 1 Axes>"
      ]
     },
     "metadata": {
      "needs_background": "light"
     },
     "output_type": "display_data"
    }
   ],
   "source": [
    "\"\"\"산포도\"\"\"\n",
    "# plt.figure(figsize=(4,4))\n",
    "plt.title('d')\n",
    "plt.scatter(x, y, s=100, marker='.')\n",
    "plt.axis('equal')\n",
    "plt.show()"
   ]
  },
  {
   "cell_type": "code",
   "execution_count": 61,
   "metadata": {},
   "outputs": [
    {
     "name": "stdout",
     "output_type": "stream",
     "text": [
      "x 평균:92.6, \t분산:14.039999999999997, \t표준편차:3.7469987990390385\n",
      "y 평균:91.1, \t분산:26.49, \t표준편차:5.146843692983108\n"
     ]
    }
   ],
   "source": [
    "# numpy 평균, 분산, 표준편차\n",
    "\n",
    "print(f'x 평균:{np.mean(x)}, \\t분산:{np.var(x)}, \\t표준편차:{np.std(x)}')\n",
    "print(f'y 평균:{np.mean(y)}, \\t분산:{np.var(y)}, \\t표준편차:{np.std(y)}')"
   ]
  },
  {
   "cell_type": "code",
   "execution_count": 64,
   "metadata": {},
   "outputs": [
    {
     "name": "stdout",
     "output_type": "stream",
     "text": [
      "시험성적 상관계수 0.3183785775683752\n"
     ]
    }
   ],
   "source": [
    "# numpy 상관계수\n",
    "print (f'시험성적 상관계수 { np.corrcoef([x,y])[0,1] }')"
   ]
  },
  {
   "cell_type": "markdown",
   "metadata": {},
   "source": [
    "### 상관관계와 우연성\n",
    "\n",
    "통계학에서 자주 *상관관계가 우연을 의미하지는 않는다* 라는 문구를 읽게 된다. 이 문구는 두 개의 관측 값 집합이 매우 강한 상관관계일지라고, 한개의 변수가 다른 변수의 원인이 됨을 의미하지는 않는다. 두 개의 변수가 강한 상관관계에 있을 때 때로는 두 변수에 영향을 주고 상관관계를 설명하는 3번째 인자가 있을 가능성이 높다.\n",
    "\n",
    "고전적 사례를 들면 아이스크림 판매량과 범죄율 간의 상관 관계이다. 일반적인 도시에서 두 변수 간의 관계를 추적해 보면 여러분은 상관관계를 쉽게 찾아낼 수 있다. 하지만 이런 관계가 범죄율이 늘어나는 원인 혹은 영향을 준다고 할 수 없다. 아이스크림 판매량과 범죄율은 여름의 더워진 날씨에 따라 상승하기 때문에 상관관계는 높지만 이또한 뜨거운 날씨가 범죄율이 높이는 원인은 아니다. 상관관계 이면에는 더 복잡한 원인들이 숨어있기 마련이다."
   ]
  },
  {
   "cell_type": "markdown",
   "metadata": {},
   "source": [
    "---\n",
    "\n",
    "# 7.4 데이터 보고 추측하기\n",
    "\n"
   ]
  },
  {
   "cell_type": "markdown",
   "metadata": {},
   "source": [
    "## 7.4.1 이동평균\n",
    "\n",
    "아래는 2019/3~5월까지 서울의 일별 평균 기온 그래프로 그린것이다. 이것은 기온이라는 데이터에 대해서만 표현한 것으로 봄에서 이른 여름까지 어떤 변화가 있는지를 파악하기 힘들다.\n",
    "\n",
    "##### 기상 통계 데이터\n",
    " - http://www.weather.go.kr/weather/climate/past_cal.jsp\n",
    " "
   ]
  },
  {
   "cell_type": "code",
   "execution_count": null,
   "metadata": {},
   "outputs": [],
   "source": [
    "import pandas as pd\n",
    "\n",
    "temp = pd.read_csv('data/temperature.csv', encoding='UTF-8')\n",
    "temp.head()"
   ]
  },
  {
   "cell_type": "code",
   "execution_count": null,
   "metadata": {},
   "outputs": [],
   "source": [
    "n = len(temp)\n",
    "x = range(1, n+1) # x축\n",
    "plt.plot(x, temp['평균기온'])\n",
    "plt.show()"
   ]
  },
  {
   "cell_type": "markdown",
   "metadata": {},
   "source": [
    "\n",
    "### 이동평균\n",
    "\n",
    "이동평균은 개별 데이터의 변화가 아니고 개별 데이터의 전.후 값을 묶어 구간을 정하고 구간의 평균이 어떻게 변화하는지 알아보는 것이다. 이 때 각 구간의 평균을 이동평균이라고 한다.\n",
    "\n",
    "<img src='images/movement_method.JPG' width='400'>\n",
    "\n",
    "위는 이동 평균의 구간 수를 홀수로 지정해 계산하고 있다.\n",
    "\n",
    "짝수인 경우 구간 수를 2로 나눠서 전반과 후반에 대한 평균 값을 구한 후에 두 값의 평균 값을 구하는 방법을 사용한다."
   ]
  },
  {
   "cell_type": "markdown",
   "metadata": {},
   "source": [
    "이동평균을 사용하면 원래 데이터 특성을 남기고 데이터 변화를 부드럽게 표현할 수 있다. 일기예보에서 최고 기온은 평년보다 3도 높은 28도 라고 많이 하는데, 여기서 평년은 *이동평균*이다.\n",
    "예를 들어 5/1일의 평년은 과거 30년 동안 5/1일 기온데 해한 평균을 구하고 구간 수를 9로 지정한 이동평균을 세 번 계산한 결과이다. 세 번이나 평균을 한 것은 그래프를 부드럽게 표현하기 위한 것이다.\n",
    "\n",
    "- [기후에 대해](http://web.kma.go.kr/notify/epeople/faq.jsp&bid=faq&mode=view&num=193)\n"
   ]
  },
  {
   "cell_type": "markdown",
   "metadata": {},
   "source": [
    "위 날씨 데이터에 이동평균을 더해보자,\n",
    "\n",
    "numpy.convolve() 함수로 이동평균을 구한다."
   ]
  },
  {
   "cell_type": "code",
   "execution_count": null,
   "metadata": {},
   "outputs": [],
   "source": [
    "n = len(temp)\n",
    "x = range(1, n+1) # x축\n",
    "y = temp['평균기온']\n",
    "plt.plot(x, y)\n",
    "\n",
    "#구간 수를 9로 지정한 이동평균\n",
    "v = np.ones(9)/9.0\n",
    "y2 = np.convolve(y, v, mode='same')\n",
    "\n",
    "plt.plot(x[4:n-4],y2[4:n-4]) #\n",
    "plt.show()"
   ]
  },
  {
   "cell_type": "markdown",
   "metadata": {},
   "source": [
    "## 7.4.2 회귀직선\n",
    "\n",
    "기온이 27도를 넘으면 아이스크림이 잘 팔린다. 사마귀가 높은 곳에 알을 낳으면 그 해는 적설량이 많다 등은 모두 과거 통계 데이터를 토대로한 이야기 이다. 이것을 이용해 미래를 예측해보고자 한다.\n",
    "\n",
    "어떤 주스 판매량을 기반으로한 산포도 그래프이다. 기온이 높아지면 주스 판매량이 늘어나는 것이 보이지만 얼마나 늘어나는지 확인을 위해 점 집단 사이에 경향을 잘 나타내는 직선을 그려보면 눈 대중으로 그리다 보니 아래 그림 처럼 기울기가 들쑥 날쑥 할 수 있다.\n",
    "\n",
    "<img src='images/jucy_sales_graph.JPG' width='500'>"
   ]
  },
  {
   "cell_type": "markdown",
   "metadata": {},
   "source": [
    "이상적인 것은 각 점에 대해서 오차가 작게 그려지는 것이다. 이것은 선과 모든 점의 오차를 더해 결과가 최소가 되도록 해야 하는데 이를 위해 직선의 기울기와 절편을 구하면 된다. 그런데 점과 오차에는 양수, 음수가 섞여 있으므로 오차를 모두 제곱한 후에 더한다 - 이를 회귀분석이라 한다.\n",
    "\n",
    "이를 통해 가장 오차가 작게 나오는 직선을 **회귀 직선**이라고 한다.\n",
    "\n",
    "<img src='images/line_correction.JPG' width='300'>"
   ]
  },
  {
   "cell_type": "markdown",
   "metadata": {},
   "source": [
    "#### 파이썬으로 회귀직선 기울기, 절편 구하기"
   ]
  },
  {
   "cell_type": "code",
   "execution_count": null,
   "metadata": {},
   "outputs": [],
   "source": [
    "x = [23,24,28,24,27,21,18,25,28,20]\n",
    "y = [37,22,62,32,74,16,10,69,83,7]\n",
    "\n",
    "mean_x = np.mean(x)\n",
    "mean_y = np.mean(y)"
   ]
  },
  {
   "cell_type": "code",
   "execution_count": null,
   "metadata": {},
   "outputs": [],
   "source": [
    "# 공분산\n",
    "cov = np.mean((x-mean_x)*(y-mean_y)) #x,y의 공분산\n",
    "cov"
   ]
  },
  {
   "cell_type": "code",
   "execution_count": null,
   "metadata": {},
   "outputs": [],
   "source": [
    "# x의 분산\n",
    "var_x = np.var(x)\n",
    "var_x"
   ]
  },
  {
   "cell_type": "code",
   "execution_count": null,
   "metadata": {},
   "outputs": [],
   "source": [
    "# 기울기\n",
    "a = cov / var_x\n",
    "a"
   ]
  },
  {
   "cell_type": "code",
   "execution_count": null,
   "metadata": {},
   "outputs": [],
   "source": [
    "# 절편\n",
    "b = mean_y - (a * mean_x)\n",
    "b"
   ]
  },
  {
   "cell_type": "markdown",
   "metadata": {},
   "source": [
    "#### numpy 회귀직선 기울기, 절편\n",
    "\n",
    "[numpy.polyfit()](https://docs.scipy.org/doc/numpy/reference/generated/numpy.polyfit.html) 함수\n",
    "\n",
    "```python\n",
    "numpy.polyfit(x, y, deg, rcond=None, full=False, w=None, cov=False)\n",
    " - deg: 차원.\n",
    "```"
   ]
  },
  {
   "cell_type": "markdown",
   "metadata": {},
   "source": [
    "회귀직선 그리기"
   ]
  },
  {
   "cell_type": "code",
   "execution_count": null,
   "metadata": {},
   "outputs": [],
   "source": [
    "# 데이터\n",
    "x = np.array([23,24,28,24,27,21,18,25,28,20])  # 기온\n",
    "y = np.array([37,22,62,32,74,16,10,69,83,7])   # 쥬스의 판매량\n",
    "\n",
    "# 회귀직선\n",
    "a, b = np.polyfit(x, y, 1)\n",
    "y2 = a * x + b\n",
    "print('기울기: {0}, 절편:{1}'.format(a, b))\n",
    "\n",
    "# 그린다\n",
    "plt.scatter(x, y)  # 산포도\n",
    "plt.plot(x, y2)    # 회귀직선\n",
    "plt.show()"
   ]
  },
  {
   "cell_type": "markdown",
   "metadata": {},
   "source": [
    "회귀직선을 그리는 것은 해당 회귀식을 이용해 값을 검증 혹은 미래를 예측하는 **회귀분석**이 목적이다. 예를 들어 내일 기온이 33도 라는 예보가 발행하면 이 기온을 회귀직선식에 대입해 보면 나오는 것은 예상되는 판매수량일 것이다."
   ]
  },
  {
   "cell_type": "code",
   "execution_count": null,
   "metadata": {},
   "outputs": [],
   "source": [
    "a * 33 + b #33도에 대한 y식"
   ]
  },
  {
   "cell_type": "markdown",
   "metadata": {},
   "source": [
    "공분산과 상관계수는 두 데이터의 관련성을 살펴보는 지수이지만 회귀직선과는 그 목적이 다르다는 점을 이해애야 한다."
   ]
  }
 ],
 "metadata": {
  "kernelspec": {
   "display_name": "Python 3",
   "language": "python",
   "name": "python3"
  },
  "language_info": {
   "codemirror_mode": {
    "name": "ipython",
    "version": 3
   },
   "file_extension": ".py",
   "mimetype": "text/x-python",
   "name": "python",
   "nbconvert_exporter": "python",
   "pygments_lexer": "ipython3",
   "version": "3.7.9"
  }
 },
 "nbformat": 4,
 "nbformat_minor": 4
}
