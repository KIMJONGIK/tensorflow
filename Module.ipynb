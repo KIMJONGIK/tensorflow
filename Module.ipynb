{
 "cells": [
  {
   "cell_type": "code",
   "execution_count": 19,
   "metadata": {},
   "outputs": [
    {
     "data": {
      "text/plain": [
       "3"
      ]
     },
     "execution_count": 19,
     "metadata": {},
     "output_type": "execute_result"
    }
   ],
   "source": [
    "import mod1\n",
    "\n",
    "\n",
    "mod1.add(1,2)"
   ]
  },
  {
   "cell_type": "code",
   "execution_count": null,
   "metadata": {},
   "outputs": [],
   "source": [
    "import clean_str\n",
    "clean_str.clean_str"
   ]
  },
  {
   "cell_type": "code",
   "execution_count": 20,
   "metadata": {},
   "outputs": [
    {
     "data": {
      "text/plain": [
       "['C:\\\\Users\\\\BIT\\\\tf2_workspace',\n",
       " 'C:\\\\Users\\\\BIT\\\\anaconda3\\\\envs\\\\tf2\\\\python37.zip',\n",
       " 'C:\\\\Users\\\\BIT\\\\anaconda3\\\\envs\\\\tf2\\\\DLLs',\n",
       " 'C:\\\\Users\\\\BIT\\\\anaconda3\\\\envs\\\\tf2\\\\lib',\n",
       " 'C:\\\\Users\\\\BIT\\\\anaconda3\\\\envs\\\\tf2',\n",
       " '',\n",
       " 'C:\\\\Users\\\\BIT\\\\anaconda3\\\\envs\\\\tf2\\\\lib\\\\site-packages',\n",
       " 'C:\\\\Users\\\\BIT\\\\anaconda3\\\\envs\\\\tf2\\\\lib\\\\site-packages\\\\win32',\n",
       " 'C:\\\\Users\\\\BIT\\\\anaconda3\\\\envs\\\\tf2\\\\lib\\\\site-packages\\\\win32\\\\lib',\n",
       " 'C:\\\\Users\\\\BIT\\\\anaconda3\\\\envs\\\\tf2\\\\lib\\\\site-packages\\\\Pythonwin',\n",
       " 'C:\\\\Users\\\\BIT\\\\anaconda3\\\\envs\\\\tf2\\\\lib\\\\site-packages\\\\IPython\\\\extensions',\n",
       " 'C:\\\\Users\\\\BIT\\\\.ipython']"
      ]
     },
     "execution_count": 20,
     "metadata": {},
     "output_type": "execute_result"
    }
   ],
   "source": [
    "import sys\n",
    "sys.path"
   ]
  },
  {
   "cell_type": "code",
   "execution_count": null,
   "metadata": {},
   "outputs": [],
   "source": [
    "# myfonts는 lib 밑에 있는데 여기에 주소를 추가해주면 바로 이름으로 import 시킬 수 있다.\n",
    "sys.path('C:\\\\~~')\n",
    "import myfonts"
   ]
  }
 ],
 "metadata": {
  "kernelspec": {
   "display_name": "Python 3",
   "language": "python",
   "name": "python3"
  },
  "language_info": {
   "codemirror_mode": {
    "name": "ipython",
    "version": 3
   },
   "file_extension": ".py",
   "mimetype": "text/x-python",
   "name": "python",
   "nbconvert_exporter": "python",
   "pygments_lexer": "ipython3",
   "version": "3.7.9"
  }
 },
 "nbformat": 4,
 "nbformat_minor": 4
}
